{
 "cells": [
  {
   "cell_type": "markdown",
   "metadata": {},
   "source": [
    "## Wikipedis Chinese Corpus"
   ]
  },
  {
   "cell_type": "markdown",
   "metadata": {},
   "source": [
    "### 1. Download Source File\n",
    "> https://dumps.wikimedia.org/zhwiki/20190401/"
   ]
  },
  {
   "cell_type": "markdown",
   "metadata": {},
   "source": [
    "### 2. Extract Data"
   ]
  },
  {
   "cell_type": "markdown",
   "metadata": {},
   "source": [
    "Extract Data to a sigle Json file by **WikiExtractor**"
   ]
  },
  {
   "cell_type": "markdown",
   "metadata": {},
   "source": [
    "$ `cd wikiextractor/`"
   ]
  },
  {
   "cell_type": "markdown",
   "metadata": {},
   "source": [
    "$ `python3 WikiExtractor.py -b 2000M -o ~/team_vec2world/project_01/corpus/data/ --json --no-templates --processes 8 ~/Downloads/zhwiki-20190401-pages-articles-multistream1.xml-p1p162886.bz2`"
   ]
  },
  {
   "cell_type": "markdown",
   "metadata": {},
   "source": [
    "Fomular of wiki json file<br>\n",
    "{\"id\": \"xxx\", \"url\": \"xxx\", \"title\": \"xxx\", \"text\": \"xxxxxx\"}"
   ]
  },
  {
   "cell_type": "markdown",
   "metadata": {},
   "source": [
    "### 3. Pre_Processing"
   ]
  },
  {
   "cell_type": "code",
   "execution_count": 1,
   "metadata": {
    "ExecuteTime": {
     "end_time": "2019-05-07T23:18:50.457727Z",
     "start_time": "2019-05-07T23:18:50.452502Z"
    }
   },
   "outputs": [],
   "source": [
    "import json"
   ]
  },
  {
   "cell_type": "code",
   "execution_count": 2,
   "metadata": {
    "ExecuteTime": {
     "end_time": "2019-05-07T23:18:50.466499Z",
     "start_time": "2019-05-07T23:18:50.461452Z"
    }
   },
   "outputs": [],
   "source": [
    "from collections import defaultdict"
   ]
  },
  {
   "cell_type": "code",
   "execution_count": 3,
   "metadata": {
    "ExecuteTime": {
     "end_time": "2019-05-07T23:18:50.476783Z",
     "start_time": "2019-05-07T23:18:50.469297Z"
    }
   },
   "outputs": [],
   "source": [
    "# Import tool of Switching Traditional Chinese to Simple Chinese\n",
    "from hanziconv import HanziConv"
   ]
  },
  {
   "cell_type": "code",
   "execution_count": 4,
   "metadata": {
    "ExecuteTime": {
     "end_time": "2019-05-07T23:18:50.484169Z",
     "start_time": "2019-05-07T23:18:50.480138Z"
    }
   },
   "outputs": [],
   "source": [
    "# Init container\n",
    "content = defaultdict(dict)"
   ]
  },
  {
   "cell_type": "code",
   "execution_count": 5,
   "metadata": {
    "ExecuteTime": {
     "end_time": "2019-05-07T23:19:35.416791Z",
     "start_time": "2019-05-07T23:18:50.487121Z"
    }
   },
   "outputs": [],
   "source": [
    "with open('./data/source_data_01', 'r') as f:\n",
    "    for line in f:\n",
    "        # Get content id and change type from str to int\n",
    "        content_id = int(json.loads(line)['id'])\n",
    "        # Get content url, type = str\n",
    "        url = json.loads(line)['url']\n",
    "        # Get content title, type = str\n",
    "        title = json.loads(line)['title']\n",
    "        # Get content text and switch to simple Chinese\n",
    "        text = HanziConv.toSimplified(json.loads(line)['text'].strip())\n",
    "        \n",
    "        # Save to dic\n",
    "        content[content_id]['url'] = url\n",
    "        content[content_id]['title'] = title\n",
    "        content[content_id]['text'] = text"
   ]
  },
  {
   "cell_type": "markdown",
   "metadata": {},
   "source": [
    "### 4. Save result to json file"
   ]
  },
  {
   "cell_type": "code",
   "execution_count": 6,
   "metadata": {
    "ExecuteTime": {
     "end_time": "2019-05-07T23:19:36.668587Z",
     "start_time": "2019-05-07T23:19:35.420353Z"
    }
   },
   "outputs": [],
   "source": [
    "# Save content to new json file\n",
    "with open('./data/pre_data_01.json', 'w', encoding='utf-8') as f:\n",
    "    json.dump(content, f)"
   ]
  },
  {
   "cell_type": "markdown",
   "metadata": {},
   "source": [
    "### 5. Save result to csv file"
   ]
  },
  {
   "cell_type": "code",
   "execution_count": 7,
   "metadata": {
    "ExecuteTime": {
     "end_time": "2019-05-07T23:19:37.760245Z",
     "start_time": "2019-05-07T23:19:36.672203Z"
    }
   },
   "outputs": [],
   "source": [
    "import pandas as pd"
   ]
  },
  {
   "cell_type": "code",
   "execution_count": 8,
   "metadata": {
    "ExecuteTime": {
     "end_time": "2019-05-07T23:19:37.946797Z",
     "start_time": "2019-05-07T23:19:37.762863Z"
    }
   },
   "outputs": [],
   "source": [
    "df = pd.DataFrame.from_dict(content, orient='index')\n",
    "df = df.reset_index()\n",
    "df = df.rename(columns={'index': 'id'})"
   ]
  },
  {
   "cell_type": "code",
   "execution_count": 13,
   "metadata": {
    "ExecuteTime": {
     "end_time": "2019-05-07T23:21:05.987357Z",
     "start_time": "2019-05-07T23:21:05.976585Z"
    }
   },
   "outputs": [
    {
     "data": {
      "text/html": [
       "<div>\n",
       "<style scoped>\n",
       "    .dataframe tbody tr th:only-of-type {\n",
       "        vertical-align: middle;\n",
       "    }\n",
       "\n",
       "    .dataframe tbody tr th {\n",
       "        vertical-align: top;\n",
       "    }\n",
       "\n",
       "    .dataframe thead th {\n",
       "        text-align: right;\n",
       "    }\n",
       "</style>\n",
       "<table border=\"1\" class=\"dataframe\">\n",
       "  <thead>\n",
       "    <tr style=\"text-align: right;\">\n",
       "      <th></th>\n",
       "      <th>id</th>\n",
       "      <th>url</th>\n",
       "      <th>title</th>\n",
       "      <th>text</th>\n",
       "    </tr>\n",
       "  </thead>\n",
       "  <tbody>\n",
       "    <tr>\n",
       "      <th>0</th>\n",
       "      <td>13</td>\n",
       "      <td>https://zh.wikipedia.org/wiki?curid=13</td>\n",
       "      <td>数学</td>\n",
       "      <td>数学\\n\\n数学是利用符号语言研究数量、结构、变化以及空间等概念的一门学科，从某种角度看属于...</td>\n",
       "    </tr>\n",
       "    <tr>\n",
       "      <th>1</th>\n",
       "      <td>18</td>\n",
       "      <td>https://zh.wikipedia.org/wiki?curid=18</td>\n",
       "      <td>哲学</td>\n",
       "      <td>哲学\\n\\n哲学（）是研究普遍的、根本的问题的学科，包括存在、知识、价值、理智、心灵、语言等...</td>\n",
       "    </tr>\n",
       "    <tr>\n",
       "      <th>2</th>\n",
       "      <td>21</td>\n",
       "      <td>https://zh.wikipedia.org/wiki?curid=21</td>\n",
       "      <td>文學</td>\n",
       "      <td>文学\\n\\n文学（），在最广泛的意义上，是任何单一的书面作品。\\n\\n更严格地说，文学写作被...</td>\n",
       "    </tr>\n",
       "    <tr>\n",
       "      <th>3</th>\n",
       "      <td>22</td>\n",
       "      <td>https://zh.wikipedia.org/wiki?curid=22</td>\n",
       "      <td>历史</td>\n",
       "      <td>历史\\n\\n历史（现代汉语词汇，古典文言文称之为史），指人类社会过去的事件和行动，以及对这些...</td>\n",
       "    </tr>\n",
       "    <tr>\n",
       "      <th>4</th>\n",
       "      <td>25</td>\n",
       "      <td>https://zh.wikipedia.org/wiki?curid=25</td>\n",
       "      <td>计算机科学</td>\n",
       "      <td>计算机科学\\n\\n计算机科学（，有时缩写为）是系统性研究信息与计算的理论基础以及它们在计算机...</td>\n",
       "    </tr>\n",
       "    <tr>\n",
       "      <th>5</th>\n",
       "      <td>39</td>\n",
       "      <td>https://zh.wikipedia.org/wiki?curid=39</td>\n",
       "      <td>民族</td>\n",
       "      <td>民族\\n\\n民族，又称人，简称民、族。\\n\\n在汉语中，民族一词具有十分丰富而复杂的内涵，可...</td>\n",
       "    </tr>\n",
       "    <tr>\n",
       "      <th>6</th>\n",
       "      <td>45</td>\n",
       "      <td>https://zh.wikipedia.org/wiki?curid=45</td>\n",
       "      <td>戏剧</td>\n",
       "      <td>戏剧\\n\\n戏剧是演员将某个故事或情境，以对话、歌唱或动作等方式所表演出来的艺术。戏剧有四个...</td>\n",
       "    </tr>\n",
       "    <tr>\n",
       "      <th>7</th>\n",
       "      <td>48</td>\n",
       "      <td>https://zh.wikipedia.org/wiki?curid=48</td>\n",
       "      <td>电影</td>\n",
       "      <td>电影\\n\\n电影是一种表演艺术、视觉艺术及听觉艺术，利用胶卷、录影带或数位媒体将影像和声音捕...</td>\n",
       "    </tr>\n",
       "    <tr>\n",
       "      <th>8</th>\n",
       "      <td>51</td>\n",
       "      <td>https://zh.wikipedia.org/wiki?curid=51</td>\n",
       "      <td>音乐</td>\n",
       "      <td>音乐\\n\\n音乐，广义而言，就是指任何以声音组成的艺术。英文Music一词源于古希腊语的μο...</td>\n",
       "    </tr>\n",
       "    <tr>\n",
       "      <th>9</th>\n",
       "      <td>53</td>\n",
       "      <td>https://zh.wikipedia.org/wiki?curid=53</td>\n",
       "      <td>经济学</td>\n",
       "      <td>经济学\\n\\n经济学是一门对产品和服务的生产、分配以及消费进行研究的社会科学。西方语言中的“...</td>\n",
       "    </tr>\n",
       "  </tbody>\n",
       "</table>\n",
       "</div>"
      ],
      "text/plain": [
       "   id                                     url  title  \\\n",
       "0  13  https://zh.wikipedia.org/wiki?curid=13     数学   \n",
       "1  18  https://zh.wikipedia.org/wiki?curid=18     哲学   \n",
       "2  21  https://zh.wikipedia.org/wiki?curid=21     文學   \n",
       "3  22  https://zh.wikipedia.org/wiki?curid=22     历史   \n",
       "4  25  https://zh.wikipedia.org/wiki?curid=25  计算机科学   \n",
       "5  39  https://zh.wikipedia.org/wiki?curid=39     民族   \n",
       "6  45  https://zh.wikipedia.org/wiki?curid=45     戏剧   \n",
       "7  48  https://zh.wikipedia.org/wiki?curid=48     电影   \n",
       "8  51  https://zh.wikipedia.org/wiki?curid=51     音乐   \n",
       "9  53  https://zh.wikipedia.org/wiki?curid=53    经济学   \n",
       "\n",
       "                                                text  \n",
       "0  数学\\n\\n数学是利用符号语言研究数量、结构、变化以及空间等概念的一门学科，从某种角度看属于...  \n",
       "1  哲学\\n\\n哲学（）是研究普遍的、根本的问题的学科，包括存在、知识、价值、理智、心灵、语言等...  \n",
       "2  文学\\n\\n文学（），在最广泛的意义上，是任何单一的书面作品。\\n\\n更严格地说，文学写作被...  \n",
       "3  历史\\n\\n历史（现代汉语词汇，古典文言文称之为史），指人类社会过去的事件和行动，以及对这些...  \n",
       "4  计算机科学\\n\\n计算机科学（，有时缩写为）是系统性研究信息与计算的理论基础以及它们在计算机...  \n",
       "5  民族\\n\\n民族，又称人，简称民、族。\\n\\n在汉语中，民族一词具有十分丰富而复杂的内涵，可...  \n",
       "6  戏剧\\n\\n戏剧是演员将某个故事或情境，以对话、歌唱或动作等方式所表演出来的艺术。戏剧有四个...  \n",
       "7  电影\\n\\n电影是一种表演艺术、视觉艺术及听觉艺术，利用胶卷、录影带或数位媒体将影像和声音捕...  \n",
       "8  音乐\\n\\n音乐，广义而言，就是指任何以声音组成的艺术。英文Music一词源于古希腊语的μο...  \n",
       "9  经济学\\n\\n经济学是一门对产品和服务的生产、分配以及消费进行研究的社会科学。西方语言中的“...  "
      ]
     },
     "execution_count": 13,
     "metadata": {},
     "output_type": "execute_result"
    }
   ],
   "source": [
    "df.head(10)"
   ]
  },
  {
   "cell_type": "code",
   "execution_count": 14,
   "metadata": {
    "ExecuteTime": {
     "end_time": "2019-05-07T23:25:35.495399Z",
     "start_time": "2019-05-07T23:25:32.676621Z"
    }
   },
   "outputs": [],
   "source": [
    "# Save content to new csv file\n",
    "df.to_csv('./data/pre_data_01.csv', encoding='utf-8')"
   ]
  }
 ],
 "metadata": {
  "kernelspec": {
   "display_name": "Python 3",
   "language": "python",
   "name": "python3"
  },
  "language_info": {
   "codemirror_mode": {
    "name": "ipython",
    "version": 3
   },
   "file_extension": ".py",
   "mimetype": "text/x-python",
   "name": "python",
   "nbconvert_exporter": "python",
   "pygments_lexer": "ipython3",
   "version": "3.7.2"
  },
  "toc": {
   "base_numbering": 1,
   "nav_menu": {},
   "number_sections": false,
   "sideBar": true,
   "skip_h1_title": true,
   "title_cell": "Table of Contents",
   "title_sidebar": "Contents",
   "toc_cell": false,
   "toc_position": {},
   "toc_section_display": true,
   "toc_window_display": false
  }
 },
 "nbformat": 4,
 "nbformat_minor": 2
}
