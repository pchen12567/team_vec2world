{
 "cells": [
  {
   "cell_type": "markdown",
   "metadata": {},
   "source": [
    "## 1. Wikipedis Chinese Corpus"
   ]
  },
  {
   "cell_type": "markdown",
   "metadata": {},
   "source": [
    "### 1.1 Download Source File\n",
    "> https://dumps.wikimedia.org/zhwiki/20190401/"
   ]
  },
  {
   "cell_type": "markdown",
   "metadata": {},
   "source": [
    "### 1.2 Extract Data"
   ]
  },
  {
   "cell_type": "markdown",
   "metadata": {},
   "source": [
    "Extract Data to a sigle Json file by **WikiExtractor**"
   ]
  },
  {
   "cell_type": "markdown",
   "metadata": {},
   "source": [
    "$ `cd wikiextractor/`"
   ]
  },
  {
   "cell_type": "markdown",
   "metadata": {},
   "source": [
    "$ `python3 WikiExtractor.py -b 2000M -o ~/team_vec2world/project_01/corpus/data/ --json --no-templates --processes 8 ~/Downloads/zhwiki-20190401-pages-articles-multistream1.xml-p1p162886.bz2`"
   ]
  },
  {
   "cell_type": "markdown",
   "metadata": {},
   "source": [
    "Fomular of wiki json file<br>\n",
    "{\"id\": \"xxx\", \"url\": \"xxx\", \"title\": \"xxx\", \"text\": \"xxxxxx\"}"
   ]
  },
  {
   "cell_type": "markdown",
   "metadata": {},
   "source": [
    "### 1.3 Pre_Processing"
   ]
  },
  {
   "cell_type": "code",
   "execution_count": 19,
   "metadata": {
    "ExecuteTime": {
     "end_time": "2019-05-11T02:25:43.853764Z",
     "start_time": "2019-05-11T02:25:43.849571Z"
    }
   },
   "outputs": [],
   "source": [
    "import json"
   ]
  },
  {
   "cell_type": "code",
   "execution_count": 2,
   "metadata": {
    "ExecuteTime": {
     "end_time": "2019-05-08T02:38:10.694895Z",
     "start_time": "2019-05-08T02:38:10.688282Z"
    }
   },
   "outputs": [],
   "source": [
    "from collections import defaultdict"
   ]
  },
  {
   "cell_type": "code",
   "execution_count": 3,
   "metadata": {
    "ExecuteTime": {
     "end_time": "2019-05-08T02:38:10.705926Z",
     "start_time": "2019-05-08T02:38:10.697706Z"
    }
   },
   "outputs": [],
   "source": [
    "# Import tool of Switching Traditional Chinese to Simple Chinese\n",
    "from hanziconv import HanziConv"
   ]
  },
  {
   "cell_type": "code",
   "execution_count": 4,
   "metadata": {
    "ExecuteTime": {
     "end_time": "2019-05-08T02:38:10.714237Z",
     "start_time": "2019-05-08T02:38:10.709198Z"
    }
   },
   "outputs": [],
   "source": [
    "# Init container\n",
    "content = defaultdict(dict)"
   ]
  },
  {
   "cell_type": "code",
   "execution_count": 5,
   "metadata": {
    "ExecuteTime": {
     "end_time": "2019-05-08T02:38:51.949754Z",
     "start_time": "2019-05-08T02:38:10.717015Z"
    }
   },
   "outputs": [],
   "source": [
    "with open('./data/wiki_source_01', 'r') as f:\n",
    "    for line in f:\n",
    "        # Get content id and change type from str to int\n",
    "        content_id = int(json.loads(line)['id'])\n",
    "        # Get content url, type = str\n",
    "        url = json.loads(line)['url']\n",
    "        # Get content title, type = str\n",
    "        title = json.loads(line)['title']\n",
    "        # Get content text and switch to simple Chinese\n",
    "        text = HanziConv.toSimplified(json.loads(line)['text'].strip())\n",
    "        \n",
    "        # Save to dic\n",
    "        content[content_id]['url'] = url\n",
    "        content[content_id]['title'] = title\n",
    "        content[content_id]['text'] = text"
   ]
  },
  {
   "cell_type": "markdown",
   "metadata": {},
   "source": [
    "### 1.4 Save result to json file"
   ]
  },
  {
   "cell_type": "code",
   "execution_count": 6,
   "metadata": {
    "ExecuteTime": {
     "end_time": "2019-05-08T02:38:53.295894Z",
     "start_time": "2019-05-08T02:38:51.953106Z"
    }
   },
   "outputs": [],
   "source": [
    "# Save content to new json file\n",
    "with open('./data/wiki_sample_01.json', 'w', encoding='utf-8') as f:\n",
    "    json.dump(content, f)"
   ]
  },
  {
   "cell_type": "code",
   "execution_count": 20,
   "metadata": {
    "ExecuteTime": {
     "end_time": "2019-05-11T02:25:53.280471Z",
     "start_time": "2019-05-11T02:25:46.765422Z"
    }
   },
   "outputs": [],
   "source": [
    "with open('./data/wiki_sample_01.json', 'r', encoding='utf-8') as f:\n",
    "    content = json.load(f)"
   ]
  },
  {
   "cell_type": "markdown",
   "metadata": {},
   "source": [
    "### 1.5 Save result to csv file"
   ]
  },
  {
   "cell_type": "code",
   "execution_count": 21,
   "metadata": {
    "ExecuteTime": {
     "end_time": "2019-05-11T02:25:56.922888Z",
     "start_time": "2019-05-11T02:25:56.919600Z"
    }
   },
   "outputs": [],
   "source": [
    "import pandas as pd"
   ]
  },
  {
   "cell_type": "code",
   "execution_count": 22,
   "metadata": {
    "ExecuteTime": {
     "end_time": "2019-05-11T02:26:12.269122Z",
     "start_time": "2019-05-11T02:26:11.991976Z"
    }
   },
   "outputs": [],
   "source": [
    "df = pd.DataFrame.from_dict(content, orient='index')\n",
    "df = df.reset_index()\n",
    "df = df.rename(columns={'index': 'id', 'text': 'content'})"
   ]
  },
  {
   "cell_type": "code",
   "execution_count": 23,
   "metadata": {
    "ExecuteTime": {
     "end_time": "2019-05-11T02:26:13.519911Z",
     "start_time": "2019-05-11T02:26:13.514480Z"
    }
   },
   "outputs": [
    {
     "name": "stdout",
     "output_type": "stream",
     "text": [
      "Total Article Number: 39440\n"
     ]
    }
   ],
   "source": [
    "# Check article number\n",
    "print('Total Article Number: {}'.format(df.shape[0]))"
   ]
  },
  {
   "cell_type": "code",
   "execution_count": 24,
   "metadata": {
    "ExecuteTime": {
     "end_time": "2019-05-11T02:26:18.077434Z",
     "start_time": "2019-05-11T02:26:18.064118Z"
    }
   },
   "outputs": [
    {
     "data": {
      "text/html": [
       "<div>\n",
       "<style scoped>\n",
       "    .dataframe tbody tr th:only-of-type {\n",
       "        vertical-align: middle;\n",
       "    }\n",
       "\n",
       "    .dataframe tbody tr th {\n",
       "        vertical-align: top;\n",
       "    }\n",
       "\n",
       "    .dataframe thead th {\n",
       "        text-align: right;\n",
       "    }\n",
       "</style>\n",
       "<table border=\"1\" class=\"dataframe\">\n",
       "  <thead>\n",
       "    <tr style=\"text-align: right;\">\n",
       "      <th></th>\n",
       "      <th>id</th>\n",
       "      <th>url</th>\n",
       "      <th>title</th>\n",
       "      <th>content</th>\n",
       "    </tr>\n",
       "  </thead>\n",
       "  <tbody>\n",
       "    <tr>\n",
       "      <th>0</th>\n",
       "      <td>100</td>\n",
       "      <td>https://zh.wikipedia.org/wiki?curid=100</td>\n",
       "      <td>农业</td>\n",
       "      <td>农业\\n\\n农业是第一级产业，在现代有广狭之分。广义上的农业是种植业、林业、畜牧业、渔业的总...</td>\n",
       "    </tr>\n",
       "    <tr>\n",
       "      <th>1</th>\n",
       "      <td>100004</td>\n",
       "      <td>https://zh.wikipedia.org/wiki?curid=100004</td>\n",
       "      <td>遊戲橘子</td>\n",
       "      <td>游戏橘子\\n\\n游戏橘子数位科技股份有限公司（Gamania Digital Enterta...</td>\n",
       "    </tr>\n",
       "    <tr>\n",
       "      <th>2</th>\n",
       "      <td>100005</td>\n",
       "      <td>https://zh.wikipedia.org/wiki?curid=100005</td>\n",
       "      <td>孝淑睿皇后</td>\n",
       "      <td>孝淑睿皇后\\n\\n孝淑睿皇后（；），昂果都理巴颜系喜塔腊氏，昂果都理巴颜第五子萨璧图的后裔。...</td>\n",
       "    </tr>\n",
       "    <tr>\n",
       "      <th>3</th>\n",
       "      <td>100008</td>\n",
       "      <td>https://zh.wikipedia.org/wiki?curid=100008</td>\n",
       "      <td>河內市</td>\n",
       "      <td>河内市\\n\\n河内市（，）是越南的首都，古称「大罗」、「古螺」、「龙编」、「昇龙」、「昇隆」...</td>\n",
       "    </tr>\n",
       "    <tr>\n",
       "      <th>4</th>\n",
       "      <td>100010</td>\n",
       "      <td>https://zh.wikipedia.org/wiki?curid=100010</td>\n",
       "      <td>十足目</td>\n",
       "      <td>十足目\\n\\n十足目（学名：）又名十脚目，是节肢动物软甲纲的一目。体分头胸部及腹部。胸肢有八...</td>\n",
       "    </tr>\n",
       "    <tr>\n",
       "      <th>5</th>\n",
       "      <td>100011</td>\n",
       "      <td>https://zh.wikipedia.org/wiki?curid=100011</td>\n",
       "      <td>澳門通訊</td>\n",
       "      <td>澳门通讯\\n\\n澳门通讯业发展相对缓慢，自2000年流动电话市场引入竞争后，才得到较快的发展...</td>\n",
       "    </tr>\n",
       "    <tr>\n",
       "      <th>6</th>\n",
       "      <td>100014</td>\n",
       "      <td>https://zh.wikipedia.org/wiki?curid=100014</td>\n",
       "      <td>澳門交通</td>\n",
       "      <td>澳门交通\\n\\n澳门的交通工具主要由陆路、水路和航空交通所组成。澳门佔地虽小，但其陆路交通的...</td>\n",
       "    </tr>\n",
       "    <tr>\n",
       "      <th>7</th>\n",
       "      <td>100017</td>\n",
       "      <td>https://zh.wikipedia.org/wiki?curid=100017</td>\n",
       "      <td>空中客车</td>\n",
       "      <td>空中客车\\n\\n空中客车公司（，官方译名译为空中-{}-客车；台湾、港澳译为空中-{}-巴士...</td>\n",
       "    </tr>\n",
       "    <tr>\n",
       "      <th>8</th>\n",
       "      <td>100023</td>\n",
       "      <td>https://zh.wikipedia.org/wiki?curid=100023</td>\n",
       "      <td>额吉盐池</td>\n",
       "      <td>额吉盐池\\n\\n额吉盐池是中国内蒙古的盐湖，蒙古语意为母亲湖位于东乌珠穆沁旗西南50公里，是...</td>\n",
       "    </tr>\n",
       "    <tr>\n",
       "      <th>9</th>\n",
       "      <td>100026</td>\n",
       "      <td>https://zh.wikipedia.org/wiki?curid=100026</td>\n",
       "      <td>查干诺尔</td>\n",
       "      <td>查干诺尔\\n\\n查干诺尔是中国的一个内陆湖泊，位于内蒙古锡林郭勒盟阿巴嘎旗西南部，面积约20...</td>\n",
       "    </tr>\n",
       "  </tbody>\n",
       "</table>\n",
       "</div>"
      ],
      "text/plain": [
       "       id                                         url  title  \\\n",
       "0     100     https://zh.wikipedia.org/wiki?curid=100     农业   \n",
       "1  100004  https://zh.wikipedia.org/wiki?curid=100004   遊戲橘子   \n",
       "2  100005  https://zh.wikipedia.org/wiki?curid=100005  孝淑睿皇后   \n",
       "3  100008  https://zh.wikipedia.org/wiki?curid=100008    河內市   \n",
       "4  100010  https://zh.wikipedia.org/wiki?curid=100010    十足目   \n",
       "5  100011  https://zh.wikipedia.org/wiki?curid=100011   澳門通訊   \n",
       "6  100014  https://zh.wikipedia.org/wiki?curid=100014   澳門交通   \n",
       "7  100017  https://zh.wikipedia.org/wiki?curid=100017   空中客车   \n",
       "8  100023  https://zh.wikipedia.org/wiki?curid=100023   额吉盐池   \n",
       "9  100026  https://zh.wikipedia.org/wiki?curid=100026   查干诺尔   \n",
       "\n",
       "                                             content  \n",
       "0  农业\\n\\n农业是第一级产业，在现代有广狭之分。广义上的农业是种植业、林业、畜牧业、渔业的总...  \n",
       "1  游戏橘子\\n\\n游戏橘子数位科技股份有限公司（Gamania Digital Enterta...  \n",
       "2  孝淑睿皇后\\n\\n孝淑睿皇后（；），昂果都理巴颜系喜塔腊氏，昂果都理巴颜第五子萨璧图的后裔。...  \n",
       "3  河内市\\n\\n河内市（，）是越南的首都，古称「大罗」、「古螺」、「龙编」、「昇龙」、「昇隆」...  \n",
       "4  十足目\\n\\n十足目（学名：）又名十脚目，是节肢动物软甲纲的一目。体分头胸部及腹部。胸肢有八...  \n",
       "5  澳门通讯\\n\\n澳门通讯业发展相对缓慢，自2000年流动电话市场引入竞争后，才得到较快的发展...  \n",
       "6  澳门交通\\n\\n澳门的交通工具主要由陆路、水路和航空交通所组成。澳门佔地虽小，但其陆路交通的...  \n",
       "7  空中客车\\n\\n空中客车公司（，官方译名译为空中-{}-客车；台湾、港澳译为空中-{}-巴士...  \n",
       "8  额吉盐池\\n\\n额吉盐池是中国内蒙古的盐湖，蒙古语意为母亲湖位于东乌珠穆沁旗西南50公里，是...  \n",
       "9  查干诺尔\\n\\n查干诺尔是中国的一个内陆湖泊，位于内蒙古锡林郭勒盟阿巴嘎旗西南部，面积约20...  "
      ]
     },
     "execution_count": 24,
     "metadata": {},
     "output_type": "execute_result"
    }
   ],
   "source": [
    "df.head(10)"
   ]
  },
  {
   "cell_type": "code",
   "execution_count": 25,
   "metadata": {
    "ExecuteTime": {
     "end_time": "2019-05-11T02:26:38.240425Z",
     "start_time": "2019-05-11T02:26:36.354457Z"
    }
   },
   "outputs": [],
   "source": [
    "# Save content to new csv file\n",
    "df.to_csv('./data/wiki_sample_01.csv', encoding='utf-8', index=False)"
   ]
  },
  {
   "cell_type": "markdown",
   "metadata": {},
   "source": [
    "----"
   ]
  },
  {
   "cell_type": "markdown",
   "metadata": {},
   "source": [
    "## 2. 今日头条新闻 Corpus"
   ]
  },
  {
   "cell_type": "code",
   "execution_count": 1,
   "metadata": {
    "ExecuteTime": {
     "end_time": "2019-05-13T01:34:10.000824Z",
     "start_time": "2019-05-13T01:34:08.773199Z"
    }
   },
   "outputs": [],
   "source": [
    "import pandas as pd\n",
    "import os"
   ]
  },
  {
   "cell_type": "code",
   "execution_count": 2,
   "metadata": {
    "ExecuteTime": {
     "end_time": "2019-05-13T01:34:10.435876Z",
     "start_time": "2019-05-13T01:34:10.424230Z"
    }
   },
   "outputs": [],
   "source": [
    "news_toutiao_dir = './data/今日头条新闻数据/'"
   ]
  },
  {
   "cell_type": "code",
   "execution_count": 3,
   "metadata": {
    "ExecuteTime": {
     "end_time": "2019-05-13T01:34:12.765317Z",
     "start_time": "2019-05-13T01:34:11.134488Z"
    }
   },
   "outputs": [
    {
     "name": "stdout",
     "output_type": "stream",
     "text": [
      "./data/今日头条新闻数据/今日头条-游戏.xlsx\n",
      "(2153, 2)\n",
      "./data/今日头条新闻数据/今日头条-娱乐.xlsx\n",
      "(2201, 2)\n",
      "./data/今日头条新闻数据/今日头条-时尚.xlsx\n",
      "(1048, 2)\n",
      "./data/今日头条新闻数据/今日头条-汽车.xlsx\n",
      "(2092, 2)\n",
      "./data/今日头条新闻数据/今日头条-军事.xlsx\n",
      "(1781, 2)\n",
      "./data/今日头条新闻数据/今日头条-体育.xlsx\n",
      "(2169, 2)\n"
     ]
    }
   ],
   "source": [
    "temp = []\n",
    "for root, dirs, files in os.walk(news_toutiao_dir):\n",
    "    # print(root)\n",
    "    # print(files)\n",
    "    for file in files:\n",
    "        file_path = root + file\n",
    "        print(file_path)\n",
    "        df = pd.read_excel(file_path)\n",
    "        df = df[['标题', '内容']]\n",
    "        print(df.shape)\n",
    "        temp.append(df)\n",
    "df_news = pd.concat(temp, axis=0)"
   ]
  },
  {
   "cell_type": "code",
   "execution_count": 4,
   "metadata": {
    "ExecuteTime": {
     "end_time": "2019-05-13T01:34:13.434771Z",
     "start_time": "2019-05-13T01:34:13.413191Z"
    }
   },
   "outputs": [],
   "source": [
    "df_news = df_news.reset_index()\n",
    "df_news = df_news.rename(columns={'index': 'id', '标题': 'title', '内容': 'content'})\n",
    "df_news['id'] = df_news['id'].apply(lambda x: x+1)"
   ]
  },
  {
   "cell_type": "code",
   "execution_count": 5,
   "metadata": {
    "ExecuteTime": {
     "end_time": "2019-05-13T01:34:14.473444Z",
     "start_time": "2019-05-13T01:34:14.468126Z"
    }
   },
   "outputs": [
    {
     "name": "stdout",
     "output_type": "stream",
     "text": [
      "Total News Number: 11444\n"
     ]
    }
   ],
   "source": [
    "# Check news number\n",
    "print('Total News Number: {}'.format(df_news.shape[0]))"
   ]
  },
  {
   "cell_type": "code",
   "execution_count": 6,
   "metadata": {
    "ExecuteTime": {
     "end_time": "2019-05-13T01:34:15.519063Z",
     "start_time": "2019-05-13T01:34:15.502632Z"
    }
   },
   "outputs": [
    {
     "name": "stdout",
     "output_type": "stream",
     "text": [
      "<class 'pandas.core.frame.DataFrame'>\n",
      "RangeIndex: 11444 entries, 0 to 11443\n",
      "Data columns (total 3 columns):\n",
      "id         11444 non-null int64\n",
      "title      11444 non-null object\n",
      "content    11444 non-null object\n",
      "dtypes: int64(1), object(2)\n",
      "memory usage: 268.3+ KB\n"
     ]
    }
   ],
   "source": [
    "df_news.info()"
   ]
  },
  {
   "cell_type": "code",
   "execution_count": 7,
   "metadata": {
    "ExecuteTime": {
     "end_time": "2019-05-13T01:34:16.402232Z",
     "start_time": "2019-05-13T01:34:16.376038Z"
    }
   },
   "outputs": [
    {
     "data": {
      "text/html": [
       "<div>\n",
       "<style scoped>\n",
       "    .dataframe tbody tr th:only-of-type {\n",
       "        vertical-align: middle;\n",
       "    }\n",
       "\n",
       "    .dataframe tbody tr th {\n",
       "        vertical-align: top;\n",
       "    }\n",
       "\n",
       "    .dataframe thead th {\n",
       "        text-align: right;\n",
       "    }\n",
       "</style>\n",
       "<table border=\"1\" class=\"dataframe\">\n",
       "  <thead>\n",
       "    <tr style=\"text-align: right;\">\n",
       "      <th></th>\n",
       "      <th>id</th>\n",
       "      <th>title</th>\n",
       "      <th>content</th>\n",
       "    </tr>\n",
       "  </thead>\n",
       "  <tbody>\n",
       "    <tr>\n",
       "      <th>5019</th>\n",
       "      <td>666</td>\n",
       "      <td>用温柔感造型征服冬天季节，全身系针织欢穿搭推荐！             小楠时尚 ⋅  评...</td>\n",
       "      <td>寒冷的冬季非常需要针织的出现，针织无论是材质上或是感官上都给人一种温暖的感受，而这个冬天针织...</td>\n",
       "    </tr>\n",
       "    <tr>\n",
       "      <th>8899</th>\n",
       "      <td>1406</td>\n",
       "      <td>7万元美国导弹，在叙利亚当手榴弹扔！干嘛不买中国导弹拼多多！</td>\n",
       "      <td>TOW陶式导弹是叙利亚战场上最常用的一种导弹，各派武装手里储存有数千枚。从2011年叙利亚内...</td>\n",
       "    </tr>\n",
       "    <tr>\n",
       "      <th>527</th>\n",
       "      <td>528</td>\n",
       "      <td>西卡：姿态是个铁富豪，五六年前家里就有一套3000万的房子</td>\n",
       "      <td>【小伙伴们大家好，我就是那个电竞圈里最靓的仔小皮皮】很多人对于职业选手是非常好奇的，因为在大...</td>\n",
       "    </tr>\n",
       "    <tr>\n",
       "      <th>11011</th>\n",
       "      <td>1737</td>\n",
       "      <td>德隆没拿过三双易建联创队史纪录，5个老球迷才懂的NBA冷知识</td>\n",
       "      <td>德隆-威廉姆斯：这位当年被球迷戏称为“吃饭睡觉打保罗”的全明星级别控卫，整个NBA职业生涯中...</td>\n",
       "    </tr>\n",
       "    <tr>\n",
       "      <th>4555</th>\n",
       "      <td>202</td>\n",
       "      <td>冬天不想看起来矮和挫？这些单品可以帮你！             STYLEMODE官方 ⋅...</td>\n",
       "      <td>鱼和熊掌不可兼得，有人说冬天的穿衣也是这样的，想要保暖就要舍弃身高，想要身高也许就要放弃保暖...</td>\n",
       "    </tr>\n",
       "    <tr>\n",
       "      <th>2197</th>\n",
       "      <td>45</td>\n",
       "      <td>27岁成明星，却甘当偶像助手30年，晚年生活靠接济，他却说值得！</td>\n",
       "      <td>文 | 书影君人生，到底是过程最有意思，还是所谓的终点？人永远达不到终点，因为你总是在改变路...</td>\n",
       "    </tr>\n",
       "    <tr>\n",
       "      <th>1792</th>\n",
       "      <td>1793</td>\n",
       "      <td>DOTA2：MDL首日比赛预测一一KG出线，RNG不稳</td>\n",
       "      <td>Hello各位又是好久不见了，这里是最近有毒的大A呀。自从冬季冲突赛说了Na’Vi是个弟弟后...</td>\n",
       "    </tr>\n",
       "    <tr>\n",
       "      <th>2026</th>\n",
       "      <td>2027</td>\n",
       "      <td>三国杀：孙权单挑黄月英，您更看好谁呢？</td>\n",
       "      <td>一、孙权孙权这边的优势，小编认为就是他的过牌能力。因为孙权只要有卡牌，就可以先把自已需要的打...</td>\n",
       "    </tr>\n",
       "    <tr>\n",
       "      <th>6039</th>\n",
       "      <td>638</td>\n",
       "      <td>穿越滇藏丨去探索詹姆斯·希尔顿笔下《消失的地平线》</td>\n",
       "      <td>文/田忠朝20世纪英国作家詹姆斯·希尔顿著作的小说《消失的地平线》，讲述了主人公康威等四位西...</td>\n",
       "    </tr>\n",
       "    <tr>\n",
       "      <th>5922</th>\n",
       "      <td>521</td>\n",
       "      <td>奥迪R8，黑涩会系列，性能怪兽，相当暴躁</td>\n",
       "      <td>奥迪R8，黑涩会系列，性能怪兽，相当暴躁！</td>\n",
       "    </tr>\n",
       "  </tbody>\n",
       "</table>\n",
       "</div>"
      ],
      "text/plain": [
       "         id                                              title  \\\n",
       "5019    666  用温柔感造型征服冬天季节，全身系针织欢穿搭推荐！             小楠时尚 ⋅  评...   \n",
       "8899   1406                     7万元美国导弹，在叙利亚当手榴弹扔！干嘛不买中国导弹拼多多！   \n",
       "527     528                      西卡：姿态是个铁富豪，五六年前家里就有一套3000万的房子   \n",
       "11011  1737                     德隆没拿过三双易建联创队史纪录，5个老球迷才懂的NBA冷知识   \n",
       "4555    202  冬天不想看起来矮和挫？这些单品可以帮你！             STYLEMODE官方 ⋅...   \n",
       "2197     45                   27岁成明星，却甘当偶像助手30年，晚年生活靠接济，他却说值得！   \n",
       "1792   1793                        DOTA2：MDL首日比赛预测一一KG出线，RNG不稳   \n",
       "2026   2027                                三国杀：孙权单挑黄月英，您更看好谁呢？   \n",
       "6039    638                          穿越滇藏丨去探索詹姆斯·希尔顿笔下《消失的地平线》   \n",
       "5922    521                               奥迪R8，黑涩会系列，性能怪兽，相当暴躁   \n",
       "\n",
       "                                                 content  \n",
       "5019   寒冷的冬季非常需要针织的出现，针织无论是材质上或是感官上都给人一种温暖的感受，而这个冬天针织...  \n",
       "8899   TOW陶式导弹是叙利亚战场上最常用的一种导弹，各派武装手里储存有数千枚。从2011年叙利亚内...  \n",
       "527    【小伙伴们大家好，我就是那个电竞圈里最靓的仔小皮皮】很多人对于职业选手是非常好奇的，因为在大...  \n",
       "11011  德隆-威廉姆斯：这位当年被球迷戏称为“吃饭睡觉打保罗”的全明星级别控卫，整个NBA职业生涯中...  \n",
       "4555   鱼和熊掌不可兼得，有人说冬天的穿衣也是这样的，想要保暖就要舍弃身高，想要身高也许就要放弃保暖...  \n",
       "2197   文 | 书影君人生，到底是过程最有意思，还是所谓的终点？人永远达不到终点，因为你总是在改变路...  \n",
       "1792   Hello各位又是好久不见了，这里是最近有毒的大A呀。自从冬季冲突赛说了Na’Vi是个弟弟后...  \n",
       "2026   一、孙权孙权这边的优势，小编认为就是他的过牌能力。因为孙权只要有卡牌，就可以先把自已需要的打...  \n",
       "6039   文/田忠朝20世纪英国作家詹姆斯·希尔顿著作的小说《消失的地平线》，讲述了主人公康威等四位西...  \n",
       "5922                               奥迪R8，黑涩会系列，性能怪兽，相当暴躁！  "
      ]
     },
     "execution_count": 7,
     "metadata": {},
     "output_type": "execute_result"
    }
   ],
   "source": [
    "df_news.sample(10)"
   ]
  },
  {
   "cell_type": "code",
   "execution_count": 8,
   "metadata": {
    "ExecuteTime": {
     "end_time": "2019-05-13T01:34:28.410856Z",
     "start_time": "2019-05-13T01:34:27.913003Z"
    }
   },
   "outputs": [],
   "source": [
    "df_news.to_csv('./data/toutiao_news_corpus.csv', encoding='utf-8', index=False)"
   ]
  },
  {
   "cell_type": "markdown",
   "metadata": {},
   "source": [
    "----"
   ]
  },
  {
   "cell_type": "markdown",
   "metadata": {},
   "source": [
    "## 3. News Chinese Corpus"
   ]
  },
  {
   "cell_type": "code",
   "execution_count": 46,
   "metadata": {
    "ExecuteTime": {
     "end_time": "2019-05-11T02:39:27.624895Z",
     "start_time": "2019-05-11T02:39:27.619399Z"
    }
   },
   "outputs": [],
   "source": [
    "cn_news_path = './data/sqlResult.csv'"
   ]
  },
  {
   "cell_type": "code",
   "execution_count": 47,
   "metadata": {
    "ExecuteTime": {
     "end_time": "2019-05-11T02:39:31.315554Z",
     "start_time": "2019-05-11T02:39:28.459161Z"
    }
   },
   "outputs": [],
   "source": [
    "df_cn_news = pd.read_csv(cn_news_path, encoding = 'gb18030')"
   ]
  },
  {
   "cell_type": "code",
   "execution_count": 48,
   "metadata": {
    "ExecuteTime": {
     "end_time": "2019-05-11T02:39:31.807594Z",
     "start_time": "2019-05-11T02:39:31.765155Z"
    }
   },
   "outputs": [],
   "source": [
    "df_cn_news = df_cn_news[['title', 'content']]"
   ]
  },
  {
   "cell_type": "code",
   "execution_count": 49,
   "metadata": {
    "ExecuteTime": {
     "end_time": "2019-05-11T02:39:32.569549Z",
     "start_time": "2019-05-11T02:39:32.479389Z"
    }
   },
   "outputs": [],
   "source": [
    "df_cn_news = df_cn_news.reset_index()\n",
    "df_cn_news = df_cn_news.rename(columns={'index': 'id'})\n",
    "df_cn_news['id'] = df_cn_news['id'].apply(lambda x: x+1)"
   ]
  },
  {
   "cell_type": "code",
   "execution_count": 68,
   "metadata": {
    "ExecuteTime": {
     "end_time": "2019-05-11T04:16:11.096901Z",
     "start_time": "2019-05-11T04:16:10.556741Z"
    }
   },
   "outputs": [],
   "source": [
    "# Drop data which content is empty\n",
    "df_cn_news = df_cn_news.dropna(subset=['content'])"
   ]
  },
  {
   "cell_type": "code",
   "execution_count": 69,
   "metadata": {
    "ExecuteTime": {
     "end_time": "2019-05-11T04:16:12.336061Z",
     "start_time": "2019-05-11T04:16:12.325446Z"
    }
   },
   "outputs": [
    {
     "name": "stdout",
     "output_type": "stream",
     "text": [
      "Total News Number: 87054\n"
     ]
    }
   ],
   "source": [
    "# Check news number\n",
    "print('Total News Number: {}'.format(df_cn_news.shape[0]))"
   ]
  },
  {
   "cell_type": "code",
   "execution_count": 70,
   "metadata": {
    "ExecuteTime": {
     "end_time": "2019-05-11T04:16:14.776827Z",
     "start_time": "2019-05-11T04:16:14.731337Z"
    }
   },
   "outputs": [
    {
     "name": "stdout",
     "output_type": "stream",
     "text": [
      "<class 'pandas.core.frame.DataFrame'>\n",
      "Int64Index: 87054 entries, 0 to 89610\n",
      "Data columns (total 3 columns):\n",
      "id         87054 non-null int64\n",
      "title      87054 non-null object\n",
      "content    87054 non-null object\n",
      "dtypes: int64(1), object(2)\n",
      "memory usage: 2.7+ MB\n"
     ]
    }
   ],
   "source": [
    "df_cn_news.info()"
   ]
  },
  {
   "cell_type": "code",
   "execution_count": 71,
   "metadata": {
    "ExecuteTime": {
     "end_time": "2019-05-11T04:16:31.102451Z",
     "start_time": "2019-05-11T04:16:31.067927Z"
    }
   },
   "outputs": [
    {
     "data": {
      "text/html": [
       "<div>\n",
       "<style scoped>\n",
       "    .dataframe tbody tr th:only-of-type {\n",
       "        vertical-align: middle;\n",
       "    }\n",
       "\n",
       "    .dataframe tbody tr th {\n",
       "        vertical-align: top;\n",
       "    }\n",
       "\n",
       "    .dataframe thead th {\n",
       "        text-align: right;\n",
       "    }\n",
       "</style>\n",
       "<table border=\"1\" class=\"dataframe\">\n",
       "  <thead>\n",
       "    <tr style=\"text-align: right;\">\n",
       "      <th></th>\n",
       "      <th>id</th>\n",
       "      <th>title</th>\n",
       "      <th>content</th>\n",
       "    </tr>\n",
       "  </thead>\n",
       "  <tbody>\n",
       "    <tr>\n",
       "      <th>85434</th>\n",
       "      <td>85435</td>\n",
       "      <td>（社会·国际儿童节）卢旺达中国小朋友做客大使馆庆祝儿童节</td>\n",
       "      <td>新华社基加利６月３日电（记者吕天然）中国驻卢旺达大使馆３日举行“六一”国际儿童节庆祝活动...</td>\n",
       "    </tr>\n",
       "    <tr>\n",
       "      <th>21022</th>\n",
       "      <td>21023</td>\n",
       "      <td>（体育）（3）羽毛球——马来西亚公开赛：中国女双黄雅琼/汤金华晋级决赛</td>\n",
       "      <td>新华社照片，古晋（马来西亚），2017年4月8日\\n（体育）（3）羽毛球——马来西亚公开赛：...</td>\n",
       "    </tr>\n",
       "    <tr>\n",
       "      <th>39706</th>\n",
       "      <td>39707</td>\n",
       "      <td>（体育）（13）第十届中国·百色国际山地户外运动挑战赛闭幕</td>\n",
       "      <td>新华社照片，凌云（广西），2017年4月24日\\n　　（体育）（13）第十届中国·百色国际山...</td>\n",
       "    </tr>\n",
       "    <tr>\n",
       "      <th>72645</th>\n",
       "      <td>72646</td>\n",
       "      <td>[8]（外代二线）足球——曼联队备战欧罗巴联赛决赛</td>\n",
       "      <td>新华社照片，外代，2017年5月24日\\n（外代二线）足球——曼联队备战欧罗巴联赛决赛\\n5...</td>\n",
       "    </tr>\n",
       "    <tr>\n",
       "      <th>56500</th>\n",
       "      <td>56501</td>\n",
       "      <td>（两岸关系）平潭两岸快件中心启动运营</td>\n",
       "      <td>新华社福州５月１０日电（记者宓盈婷）记者１０日从平潭综合实验区管委会获悉，平潭两岸快件中...</td>\n",
       "    </tr>\n",
       "    <tr>\n",
       "      <th>71825</th>\n",
       "      <td>71826</td>\n",
       "      <td>[3]（外代二线）影片《圣鹿之死》亮相戛纳</td>\n",
       "      <td>新华社照片，外代，2017年5月23日\\n（外代二线）影片《圣鹿之死》亮相戛纳\\n5月22日...</td>\n",
       "    </tr>\n",
       "    <tr>\n",
       "      <th>88877</th>\n",
       "      <td>88878</td>\n",
       "      <td>新华社体育图片上周最佳2</td>\n",
       "      <td>尊敬的新华社摄影部体育照片用户，此稿为《新华社体育图片上周最佳》（2017年5月23日至6月...</td>\n",
       "    </tr>\n",
       "    <tr>\n",
       "      <th>71338</th>\n",
       "      <td>71339</td>\n",
       "      <td>（国际）美国国会参议院批准艾奥瓦州州长特里·布兰斯塔德为新任驻华大使</td>\n",
       "      <td>新华社照片，纽约，2017年5月22日\\n（国际）美国国会参议院批准艾奥瓦州州长特里·布兰斯...</td>\n",
       "    </tr>\n",
       "    <tr>\n",
       "      <th>28335</th>\n",
       "      <td>28336</td>\n",
       "      <td>（体育）（1）羽毛球——新加坡公开赛：马林晋级半决赛</td>\n",
       "      <td>新华社照片，新加坡，2017年4月14日\\n（体育）（1）羽毛球——新加坡公开赛：马林晋级半...</td>\n",
       "    </tr>\n",
       "    <tr>\n",
       "      <th>15312</th>\n",
       "      <td>15313</td>\n",
       "      <td>（体育）（9）篮球——CBA总决赛首场：新疆胜广东</td>\n",
       "      <td>新华社照片，乌鲁木齐，2017年3月31日\\n（体育）（9）篮球——CBA总决赛首场：新疆胜...</td>\n",
       "    </tr>\n",
       "  </tbody>\n",
       "</table>\n",
       "</div>"
      ],
      "text/plain": [
       "          id                                title  \\\n",
       "85434  85435         （社会·国际儿童节）卢旺达中国小朋友做客大使馆庆祝儿童节   \n",
       "21022  21023  （体育）（3）羽毛球——马来西亚公开赛：中国女双黄雅琼/汤金华晋级决赛   \n",
       "39706  39707        （体育）（13）第十届中国·百色国际山地户外运动挑战赛闭幕   \n",
       "72645  72646            [8]（外代二线）足球——曼联队备战欧罗巴联赛决赛   \n",
       "56500  56501                   （两岸关系）平潭两岸快件中心启动运营   \n",
       "71825  71826                [3]（外代二线）影片《圣鹿之死》亮相戛纳   \n",
       "88877  88878                         新华社体育图片上周最佳2   \n",
       "71338  71339   （国际）美国国会参议院批准艾奥瓦州州长特里·布兰斯塔德为新任驻华大使   \n",
       "28335  28336           （体育）（1）羽毛球——新加坡公开赛：马林晋级半决赛   \n",
       "15312  15313            （体育）（9）篮球——CBA总决赛首场：新疆胜广东   \n",
       "\n",
       "                                                 content  \n",
       "85434  　　新华社基加利６月３日电（记者吕天然）中国驻卢旺达大使馆３日举行“六一”国际儿童节庆祝活动...  \n",
       "21022  新华社照片，古晋（马来西亚），2017年4月8日\\n（体育）（3）羽毛球——马来西亚公开赛：...  \n",
       "39706  新华社照片，凌云（广西），2017年4月24日\\n　　（体育）（13）第十届中国·百色国际山...  \n",
       "72645  新华社照片，外代，2017年5月24日\\n（外代二线）足球——曼联队备战欧罗巴联赛决赛\\n5...  \n",
       "56500  　　新华社福州５月１０日电（记者宓盈婷）记者１０日从平潭综合实验区管委会获悉，平潭两岸快件中...  \n",
       "71825  新华社照片，外代，2017年5月23日\\n（外代二线）影片《圣鹿之死》亮相戛纳\\n5月22日...  \n",
       "88877  尊敬的新华社摄影部体育照片用户，此稿为《新华社体育图片上周最佳》（2017年5月23日至6月...  \n",
       "71338  新华社照片，纽约，2017年5月22日\\n（国际）美国国会参议院批准艾奥瓦州州长特里·布兰斯...  \n",
       "28335  新华社照片，新加坡，2017年4月14日\\n（体育）（1）羽毛球——新加坡公开赛：马林晋级半...  \n",
       "15312  新华社照片，乌鲁木齐，2017年3月31日\\n（体育）（9）篮球——CBA总决赛首场：新疆胜...  "
      ]
     },
     "execution_count": 71,
     "metadata": {},
     "output_type": "execute_result"
    }
   ],
   "source": [
    "df_cn_news.sample(10)"
   ]
  },
  {
   "cell_type": "code",
   "execution_count": 72,
   "metadata": {
    "ExecuteTime": {
     "end_time": "2019-05-11T04:16:34.037202Z",
     "start_time": "2019-05-11T04:16:32.126013Z"
    }
   },
   "outputs": [],
   "source": [
    "df_cn_news.to_csv('./data/cn_news_corpus.csv', encoding='utf-8', index=False)"
   ]
  },
  {
   "cell_type": "markdown",
   "metadata": {},
   "source": [
    "----"
   ]
  },
  {
   "cell_type": "markdown",
   "metadata": {},
   "source": [
    "Combine two news corpus"
   ]
  },
  {
   "cell_type": "code",
   "execution_count": 73,
   "metadata": {
    "ExecuteTime": {
     "end_time": "2019-05-11T04:16:36.357858Z",
     "start_time": "2019-05-11T04:16:36.161530Z"
    }
   },
   "outputs": [],
   "source": [
    "df_total_news = pd.concat([df_news[['title', 'content']], df_cn_news[['title', 'content']]], axis=0)"
   ]
  },
  {
   "cell_type": "code",
   "execution_count": 74,
   "metadata": {
    "ExecuteTime": {
     "end_time": "2019-05-11T04:16:37.122310Z",
     "start_time": "2019-05-11T04:16:36.925423Z"
    }
   },
   "outputs": [],
   "source": [
    "df_total_news = df_total_news.reset_index()\n",
    "df_total_news = df_total_news.rename(columns={'index': 'id'})\n",
    "df_total_news['id'] = df_total_news['id'].apply(lambda x: x+1)"
   ]
  },
  {
   "cell_type": "code",
   "execution_count": 75,
   "metadata": {
    "ExecuteTime": {
     "end_time": "2019-05-11T04:16:37.663068Z",
     "start_time": "2019-05-11T04:16:37.619872Z"
    }
   },
   "outputs": [],
   "source": [
    "# Drop data which content is empty\n",
    "df_total_news = df_total_news.dropna(subset=['content'])"
   ]
  },
  {
   "cell_type": "code",
   "execution_count": 76,
   "metadata": {
    "ExecuteTime": {
     "end_time": "2019-05-11T04:16:41.337185Z",
     "start_time": "2019-05-11T04:16:41.330189Z"
    }
   },
   "outputs": [
    {
     "name": "stdout",
     "output_type": "stream",
     "text": [
      "Total News Number: 98498\n"
     ]
    }
   ],
   "source": [
    "# Check news number\n",
    "print('Total News Number: {}'.format(df_total_news.shape[0]))"
   ]
  },
  {
   "cell_type": "code",
   "execution_count": 66,
   "metadata": {
    "ExecuteTime": {
     "end_time": "2019-05-11T02:49:08.251227Z",
     "start_time": "2019-05-11T02:49:08.169153Z"
    }
   },
   "outputs": [
    {
     "name": "stdout",
     "output_type": "stream",
     "text": [
      "<class 'pandas.core.frame.DataFrame'>\n",
      "Int64Index: 98498 entries, 0 to 101054\n",
      "Data columns (total 3 columns):\n",
      "id         98498 non-null int64\n",
      "title      98498 non-null object\n",
      "content    98498 non-null object\n",
      "dtypes: int64(1), object(2)\n",
      "memory usage: 3.0+ MB\n"
     ]
    }
   ],
   "source": [
    "df_total_news.info()"
   ]
  },
  {
   "cell_type": "code",
   "execution_count": 64,
   "metadata": {
    "ExecuteTime": {
     "end_time": "2019-05-11T02:46:46.584270Z",
     "start_time": "2019-05-11T02:46:46.565237Z"
    }
   },
   "outputs": [
    {
     "data": {
      "text/html": [
       "<div>\n",
       "<style scoped>\n",
       "    .dataframe tbody tr th:only-of-type {\n",
       "        vertical-align: middle;\n",
       "    }\n",
       "\n",
       "    .dataframe tbody tr th {\n",
       "        vertical-align: top;\n",
       "    }\n",
       "\n",
       "    .dataframe thead th {\n",
       "        text-align: right;\n",
       "    }\n",
       "</style>\n",
       "<table border=\"1\" class=\"dataframe\">\n",
       "  <thead>\n",
       "    <tr style=\"text-align: right;\">\n",
       "      <th></th>\n",
       "      <th>id</th>\n",
       "      <th>title</th>\n",
       "      <th>content</th>\n",
       "    </tr>\n",
       "  </thead>\n",
       "  <tbody>\n",
       "    <tr>\n",
       "      <th>41686</th>\n",
       "      <td>30243</td>\n",
       "      <td>（体育）“京味儿”十足的“北京跑”受到参赛跑者喜爱</td>\n",
       "      <td>新华社北京４月１６日电（记者汪涌）２０１７北京国际长跑节暨北京半程马拉松１６日在天安门广...</td>\n",
       "    </tr>\n",
       "    <tr>\n",
       "      <th>80570</th>\n",
       "      <td>69127</td>\n",
       "      <td>（新华简讯）鲁哈尼在伊朗第１２届总统选举中获胜</td>\n",
       "      <td>新华社德黑兰５月２０日电伊朗内政部２０日宣布，现任总统鲁哈尼在伊朗第１２届总统选举中以５...</td>\n",
       "    </tr>\n",
       "    <tr>\n",
       "      <th>62205</th>\n",
       "      <td>50762</td>\n",
       "      <td>（国际）（6）玫瑰绽放“永恒之城”</td>\n",
       "      <td>新华社照片，罗马，2017年5月4日\\n（国际）（6）玫瑰绽放“永恒之城”\\n这是5月3日从...</td>\n",
       "    </tr>\n",
       "    <tr>\n",
       "      <th>74300</th>\n",
       "      <td>62857</td>\n",
       "      <td>（法治）（2）河北武强：“小小法治宣传员”活跃中学课堂</td>\n",
       "      <td>新华社照片，武强（河北），2017年5月15日\\n河北武强：“小小法治宣传员”活跃中学课堂\\...</td>\n",
       "    </tr>\n",
       "    <tr>\n",
       "      <th>32550</th>\n",
       "      <td>21107</td>\n",
       "      <td>（经济）（1）河北霸州：传统企业变革中求生存</td>\n",
       "      <td>新华社照片，霸州（河北），2017年4月8日\\n河北霸州：传统企业变革中求生存\\n4月8日，...</td>\n",
       "    </tr>\n",
       "    <tr>\n",
       "      <th>34719</th>\n",
       "      <td>23276</td>\n",
       "      <td>（经济）（2）深化税收改革 助力企业发展</td>\n",
       "      <td>新华社照片，福州，2017年4月10日\\n深化税收改革助力企业发展\\n4月10日，在福州市鼓...</td>\n",
       "    </tr>\n",
       "    <tr>\n",
       "      <th>86181</th>\n",
       "      <td>74738</td>\n",
       "      <td>（社会·广角）昆明两级法院集中发还执行款逾５亿元</td>\n",
       "      <td>新华社昆明５月２５日电（记者王研、李怀岩）昆明两级法院２５日同时举行执行案款集中发还大会...</td>\n",
       "    </tr>\n",
       "    <tr>\n",
       "      <th>31939</th>\n",
       "      <td>20496</td>\n",
       "      <td>[2]（外代二线）雅加达兴建快速交通系统工程</td>\n",
       "      <td>新华社照片，外代，2017年4月8日\\n（外代二线）雅加达兴建快速交通系统工程\\n4月6日，...</td>\n",
       "    </tr>\n",
       "    <tr>\n",
       "      <th>55376</th>\n",
       "      <td>43933</td>\n",
       "      <td>（体育）（3）篮球——周琦抵达休斯敦</td>\n",
       "      <td>新华社照片，休斯敦，2017年4月28日\\n（体育）（3）篮球——周琦抵达休斯敦\\n4月27...</td>\n",
       "    </tr>\n",
       "    <tr>\n",
       "      <th>6455</th>\n",
       "      <td>6456</td>\n",
       "      <td>爬坡时用这个档位，不仅爬坡更快，而且能省一半油</td>\n",
       "      <td>目前市场上有自动挡和手动挡两类汽车，并且自动挡在所占市场份额更大，销量更好一些。这是因为自动...</td>\n",
       "    </tr>\n",
       "  </tbody>\n",
       "</table>\n",
       "</div>"
      ],
      "text/plain": [
       "          id                        title  \\\n",
       "41686  30243    （体育）“京味儿”十足的“北京跑”受到参赛跑者喜爱   \n",
       "80570  69127      （新华简讯）鲁哈尼在伊朗第１２届总统选举中获胜   \n",
       "62205  50762            （国际）（6）玫瑰绽放“永恒之城”   \n",
       "74300  62857  （法治）（2）河北武强：“小小法治宣传员”活跃中学课堂   \n",
       "32550  21107       （经济）（1）河北霸州：传统企业变革中求生存   \n",
       "34719  23276         （经济）（2）深化税收改革 助力企业发展   \n",
       "86181  74738     （社会·广角）昆明两级法院集中发还执行款逾５亿元   \n",
       "31939  20496       [2]（外代二线）雅加达兴建快速交通系统工程   \n",
       "55376  43933           （体育）（3）篮球——周琦抵达休斯敦   \n",
       "6455    6456      爬坡时用这个档位，不仅爬坡更快，而且能省一半油   \n",
       "\n",
       "                                                 content  \n",
       "41686  　　新华社北京４月１６日电（记者汪涌）２０１７北京国际长跑节暨北京半程马拉松１６日在天安门广...  \n",
       "80570  　　新华社德黑兰５月２０日电伊朗内政部２０日宣布，现任总统鲁哈尼在伊朗第１２届总统选举中以５...  \n",
       "62205  新华社照片，罗马，2017年5月4日\\n（国际）（6）玫瑰绽放“永恒之城”\\n这是5月3日从...  \n",
       "74300  新华社照片，武强（河北），2017年5月15日\\n河北武强：“小小法治宣传员”活跃中学课堂\\...  \n",
       "32550  新华社照片，霸州（河北），2017年4月8日\\n河北霸州：传统企业变革中求生存\\n4月8日，...  \n",
       "34719  新华社照片，福州，2017年4月10日\\n深化税收改革助力企业发展\\n4月10日，在福州市鼓...  \n",
       "86181  　　新华社昆明５月２５日电（记者王研、李怀岩）昆明两级法院２５日同时举行执行案款集中发还大会...  \n",
       "31939  新华社照片，外代，2017年4月8日\\n（外代二线）雅加达兴建快速交通系统工程\\n4月6日，...  \n",
       "55376  新华社照片，休斯敦，2017年4月28日\\n（体育）（3）篮球——周琦抵达休斯敦\\n4月27...  \n",
       "6455   目前市场上有自动挡和手动挡两类汽车，并且自动挡在所占市场份额更大，销量更好一些。这是因为自动...  "
      ]
     },
     "execution_count": 64,
     "metadata": {},
     "output_type": "execute_result"
    }
   ],
   "source": [
    "df_total_news.sample(10)"
   ]
  },
  {
   "cell_type": "code",
   "execution_count": 65,
   "metadata": {
    "ExecuteTime": {
     "end_time": "2019-05-11T02:48:31.731378Z",
     "start_time": "2019-05-11T02:48:29.628021Z"
    }
   },
   "outputs": [],
   "source": [
    "df_total_news.to_csv('./data/total_news_corpus.csv', encoding='utf-8', index=False)"
   ]
  }
 ],
 "metadata": {
  "kernelspec": {
   "display_name": "Python 3",
   "language": "python",
   "name": "python3"
  },
  "language_info": {
   "codemirror_mode": {
    "name": "ipython",
    "version": 3
   },
   "file_extension": ".py",
   "mimetype": "text/x-python",
   "name": "python",
   "nbconvert_exporter": "python",
   "pygments_lexer": "ipython3",
   "version": "3.7.2"
  },
  "toc": {
   "base_numbering": 1,
   "nav_menu": {},
   "number_sections": false,
   "sideBar": true,
   "skip_h1_title": true,
   "title_cell": "Table of Contents",
   "title_sidebar": "Contents",
   "toc_cell": false,
   "toc_position": {},
   "toc_section_display": true,
   "toc_window_display": false
  }
 },
 "nbformat": 4,
 "nbformat_minor": 2
}
