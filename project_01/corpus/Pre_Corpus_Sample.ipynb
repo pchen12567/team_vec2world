{
 "cells": [
  {
   "cell_type": "markdown",
   "metadata": {},
   "source": [
    "## Wikipedis Chinese Corpus"
   ]
  },
  {
   "cell_type": "markdown",
   "metadata": {},
   "source": [
    "### 1. Download Source File\n",
    "> https://dumps.wikimedia.org/zhwiki/20190401/"
   ]
  },
  {
   "cell_type": "markdown",
   "metadata": {},
   "source": [
    "### 2. Extract Data"
   ]
  },
  {
   "cell_type": "markdown",
   "metadata": {},
   "source": [
    "Extract Data to a sigle Json file by **WikiExtractor**"
   ]
  },
  {
   "cell_type": "markdown",
   "metadata": {},
   "source": [
    "$ `cd wikiextractor/`"
   ]
  },
  {
   "cell_type": "markdown",
   "metadata": {},
   "source": [
    "$ `python3 WikiExtractor.py -b 2000M -o ~/team_vec2world/project_01/corpus/data/ --json --no-templates --processes 8 ~/Downloads/zhwiki-20190401-pages-articles-multistream1.xml-p1p162886.bz2`"
   ]
  },
  {
   "cell_type": "markdown",
   "metadata": {},
   "source": [
    "Fomular of wiki json file<br>\n",
    "{\"id\": \"xxx\", \"url\": \"xxx\", \"title\": \"xxx\", \"text\": \"xxxxxx\"}"
   ]
  },
  {
   "cell_type": "markdown",
   "metadata": {},
   "source": [
    "### 3. Pre_Processing"
   ]
  },
  {
   "cell_type": "code",
   "execution_count": 1,
   "metadata": {
    "ExecuteTime": {
     "end_time": "2019-05-08T02:38:10.684523Z",
     "start_time": "2019-05-08T02:38:10.678989Z"
    }
   },
   "outputs": [],
   "source": [
    "import json"
   ]
  },
  {
   "cell_type": "code",
   "execution_count": 2,
   "metadata": {
    "ExecuteTime": {
     "end_time": "2019-05-08T02:38:10.694895Z",
     "start_time": "2019-05-08T02:38:10.688282Z"
    }
   },
   "outputs": [],
   "source": [
    "from collections import defaultdict"
   ]
  },
  {
   "cell_type": "code",
   "execution_count": 3,
   "metadata": {
    "ExecuteTime": {
     "end_time": "2019-05-08T02:38:10.705926Z",
     "start_time": "2019-05-08T02:38:10.697706Z"
    }
   },
   "outputs": [],
   "source": [
    "# Import tool of Switching Traditional Chinese to Simple Chinese\n",
    "from hanziconv import HanziConv"
   ]
  },
  {
   "cell_type": "code",
   "execution_count": 4,
   "metadata": {
    "ExecuteTime": {
     "end_time": "2019-05-08T02:38:10.714237Z",
     "start_time": "2019-05-08T02:38:10.709198Z"
    }
   },
   "outputs": [],
   "source": [
    "# Init container\n",
    "content = defaultdict(dict)"
   ]
  },
  {
   "cell_type": "code",
   "execution_count": 5,
   "metadata": {
    "ExecuteTime": {
     "end_time": "2019-05-08T02:38:51.949754Z",
     "start_time": "2019-05-08T02:38:10.717015Z"
    }
   },
   "outputs": [],
   "source": [
    "with open('./data/wiki_source_01', 'r') as f:\n",
    "    for line in f:\n",
    "        # Get content id and change type from str to int\n",
    "        content_id = int(json.loads(line)['id'])\n",
    "        # Get content url, type = str\n",
    "        url = json.loads(line)['url']\n",
    "        # Get content title, type = str\n",
    "        title = json.loads(line)['title']\n",
    "        # Get content text and switch to simple Chinese\n",
    "        text = HanziConv.toSimplified(json.loads(line)['text'].strip())\n",
    "        \n",
    "        # Save to dic\n",
    "        content[content_id]['url'] = url\n",
    "        content[content_id]['title'] = title\n",
    "        content[content_id]['text'] = text"
   ]
  },
  {
   "cell_type": "markdown",
   "metadata": {},
   "source": [
    "### 4. Save result to json file"
   ]
  },
  {
   "cell_type": "code",
   "execution_count": 6,
   "metadata": {
    "ExecuteTime": {
     "end_time": "2019-05-08T02:38:53.295894Z",
     "start_time": "2019-05-08T02:38:51.953106Z"
    }
   },
   "outputs": [],
   "source": [
    "# Save content to new json file\n",
    "with open('./data/wiki_sample_01.json', 'w', encoding='utf-8') as f:\n",
    "    json.dump(content, f)"
   ]
  },
  {
   "cell_type": "markdown",
   "metadata": {},
   "source": [
    "### 5. Save result to csv file"
   ]
  },
  {
   "cell_type": "code",
   "execution_count": 7,
   "metadata": {
    "ExecuteTime": {
     "end_time": "2019-05-08T02:38:54.282025Z",
     "start_time": "2019-05-08T02:38:53.299386Z"
    }
   },
   "outputs": [],
   "source": [
    "import pandas as pd"
   ]
  },
  {
   "cell_type": "code",
   "execution_count": 8,
   "metadata": {
    "ExecuteTime": {
     "end_time": "2019-05-08T02:38:54.467900Z",
     "start_time": "2019-05-08T02:38:54.283485Z"
    }
   },
   "outputs": [],
   "source": [
    "df = pd.DataFrame.from_dict(content, orient='index')\n",
    "df = df.reset_index()\n",
    "df = df.rename(columns={'index': 'id'})"
   ]
  },
  {
   "cell_type": "code",
   "execution_count": 9,
   "metadata": {
    "ExecuteTime": {
     "end_time": "2019-05-08T02:38:54.474534Z",
     "start_time": "2019-05-08T02:38:54.469692Z"
    }
   },
   "outputs": [
    {
     "name": "stdout",
     "output_type": "stream",
     "text": [
      "Total Article Number: 39440\n"
     ]
    }
   ],
   "source": [
    "# Check article number\n",
    "print('Total Article Number: {}'.format(df.shape[0]))"
   ]
  },
  {
   "cell_type": "code",
   "execution_count": 10,
   "metadata": {
    "ExecuteTime": {
     "end_time": "2019-05-08T02:38:54.504496Z",
     "start_time": "2019-05-08T02:38:54.476420Z"
    }
   },
   "outputs": [
    {
     "data": {
      "text/html": [
       "<div>\n",
       "<style scoped>\n",
       "    .dataframe tbody tr th:only-of-type {\n",
       "        vertical-align: middle;\n",
       "    }\n",
       "\n",
       "    .dataframe tbody tr th {\n",
       "        vertical-align: top;\n",
       "    }\n",
       "\n",
       "    .dataframe thead th {\n",
       "        text-align: right;\n",
       "    }\n",
       "</style>\n",
       "<table border=\"1\" class=\"dataframe\">\n",
       "  <thead>\n",
       "    <tr style=\"text-align: right;\">\n",
       "      <th></th>\n",
       "      <th>id</th>\n",
       "      <th>url</th>\n",
       "      <th>title</th>\n",
       "      <th>text</th>\n",
       "    </tr>\n",
       "  </thead>\n",
       "  <tbody>\n",
       "    <tr>\n",
       "      <th>0</th>\n",
       "      <td>13</td>\n",
       "      <td>https://zh.wikipedia.org/wiki?curid=13</td>\n",
       "      <td>数学</td>\n",
       "      <td>数学\\n\\n数学是利用符号语言研究数量、结构、变化以及空间等概念的一门学科，从某种角度看属于...</td>\n",
       "    </tr>\n",
       "    <tr>\n",
       "      <th>1</th>\n",
       "      <td>18</td>\n",
       "      <td>https://zh.wikipedia.org/wiki?curid=18</td>\n",
       "      <td>哲学</td>\n",
       "      <td>哲学\\n\\n哲学（）是研究普遍的、根本的问题的学科，包括存在、知识、价值、理智、心灵、语言等...</td>\n",
       "    </tr>\n",
       "    <tr>\n",
       "      <th>2</th>\n",
       "      <td>21</td>\n",
       "      <td>https://zh.wikipedia.org/wiki?curid=21</td>\n",
       "      <td>文學</td>\n",
       "      <td>文学\\n\\n文学（），在最广泛的意义上，是任何单一的书面作品。\\n\\n更严格地说，文学写作被...</td>\n",
       "    </tr>\n",
       "    <tr>\n",
       "      <th>3</th>\n",
       "      <td>22</td>\n",
       "      <td>https://zh.wikipedia.org/wiki?curid=22</td>\n",
       "      <td>历史</td>\n",
       "      <td>历史\\n\\n历史（现代汉语词汇，古典文言文称之为史），指人类社会过去的事件和行动，以及对这些...</td>\n",
       "    </tr>\n",
       "    <tr>\n",
       "      <th>4</th>\n",
       "      <td>25</td>\n",
       "      <td>https://zh.wikipedia.org/wiki?curid=25</td>\n",
       "      <td>计算机科学</td>\n",
       "      <td>计算机科学\\n\\n计算机科学（，有时缩写为）是系统性研究信息与计算的理论基础以及它们在计算机...</td>\n",
       "    </tr>\n",
       "    <tr>\n",
       "      <th>5</th>\n",
       "      <td>39</td>\n",
       "      <td>https://zh.wikipedia.org/wiki?curid=39</td>\n",
       "      <td>民族</td>\n",
       "      <td>民族\\n\\n民族，又称人，简称民、族。\\n\\n在汉语中，民族一词具有十分丰富而复杂的内涵，可...</td>\n",
       "    </tr>\n",
       "    <tr>\n",
       "      <th>6</th>\n",
       "      <td>45</td>\n",
       "      <td>https://zh.wikipedia.org/wiki?curid=45</td>\n",
       "      <td>戏剧</td>\n",
       "      <td>戏剧\\n\\n戏剧是演员将某个故事或情境，以对话、歌唱或动作等方式所表演出来的艺术。戏剧有四个...</td>\n",
       "    </tr>\n",
       "    <tr>\n",
       "      <th>7</th>\n",
       "      <td>48</td>\n",
       "      <td>https://zh.wikipedia.org/wiki?curid=48</td>\n",
       "      <td>电影</td>\n",
       "      <td>电影\\n\\n电影是一种表演艺术、视觉艺术及听觉艺术，利用胶卷、录影带或数位媒体将影像和声音捕...</td>\n",
       "    </tr>\n",
       "    <tr>\n",
       "      <th>8</th>\n",
       "      <td>51</td>\n",
       "      <td>https://zh.wikipedia.org/wiki?curid=51</td>\n",
       "      <td>音乐</td>\n",
       "      <td>音乐\\n\\n音乐，广义而言，就是指任何以声音组成的艺术。英文Music一词源于古希腊语的μο...</td>\n",
       "    </tr>\n",
       "    <tr>\n",
       "      <th>9</th>\n",
       "      <td>53</td>\n",
       "      <td>https://zh.wikipedia.org/wiki?curid=53</td>\n",
       "      <td>经济学</td>\n",
       "      <td>经济学\\n\\n经济学是一门对产品和服务的生产、分配以及消费进行研究的社会科学。西方语言中的“...</td>\n",
       "    </tr>\n",
       "  </tbody>\n",
       "</table>\n",
       "</div>"
      ],
      "text/plain": [
       "   id                                     url  title  \\\n",
       "0  13  https://zh.wikipedia.org/wiki?curid=13     数学   \n",
       "1  18  https://zh.wikipedia.org/wiki?curid=18     哲学   \n",
       "2  21  https://zh.wikipedia.org/wiki?curid=21     文學   \n",
       "3  22  https://zh.wikipedia.org/wiki?curid=22     历史   \n",
       "4  25  https://zh.wikipedia.org/wiki?curid=25  计算机科学   \n",
       "5  39  https://zh.wikipedia.org/wiki?curid=39     民族   \n",
       "6  45  https://zh.wikipedia.org/wiki?curid=45     戏剧   \n",
       "7  48  https://zh.wikipedia.org/wiki?curid=48     电影   \n",
       "8  51  https://zh.wikipedia.org/wiki?curid=51     音乐   \n",
       "9  53  https://zh.wikipedia.org/wiki?curid=53    经济学   \n",
       "\n",
       "                                                text  \n",
       "0  数学\\n\\n数学是利用符号语言研究数量、结构、变化以及空间等概念的一门学科，从某种角度看属于...  \n",
       "1  哲学\\n\\n哲学（）是研究普遍的、根本的问题的学科，包括存在、知识、价值、理智、心灵、语言等...  \n",
       "2  文学\\n\\n文学（），在最广泛的意义上，是任何单一的书面作品。\\n\\n更严格地说，文学写作被...  \n",
       "3  历史\\n\\n历史（现代汉语词汇，古典文言文称之为史），指人类社会过去的事件和行动，以及对这些...  \n",
       "4  计算机科学\\n\\n计算机科学（，有时缩写为）是系统性研究信息与计算的理论基础以及它们在计算机...  \n",
       "5  民族\\n\\n民族，又称人，简称民、族。\\n\\n在汉语中，民族一词具有十分丰富而复杂的内涵，可...  \n",
       "6  戏剧\\n\\n戏剧是演员将某个故事或情境，以对话、歌唱或动作等方式所表演出来的艺术。戏剧有四个...  \n",
       "7  电影\\n\\n电影是一种表演艺术、视觉艺术及听觉艺术，利用胶卷、录影带或数位媒体将影像和声音捕...  \n",
       "8  音乐\\n\\n音乐，广义而言，就是指任何以声音组成的艺术。英文Music一词源于古希腊语的μο...  \n",
       "9  经济学\\n\\n经济学是一门对产品和服务的生产、分配以及消费进行研究的社会科学。西方语言中的“...  "
      ]
     },
     "execution_count": 10,
     "metadata": {},
     "output_type": "execute_result"
    }
   ],
   "source": [
    "df.head(10)"
   ]
  },
  {
   "cell_type": "code",
   "execution_count": 11,
   "metadata": {
    "ExecuteTime": {
     "end_time": "2019-05-08T02:38:57.414016Z",
     "start_time": "2019-05-08T02:38:54.508058Z"
    }
   },
   "outputs": [],
   "source": [
    "# Save content to new csv file\n",
    "df.to_csv('./data/wiki_sample_01.csv', encoding='utf-8', index=False)"
   ]
  },
  {
   "cell_type": "markdown",
   "metadata": {},
   "source": [
    "----"
   ]
  },
  {
   "cell_type": "markdown",
   "metadata": {},
   "source": [
    "## 今日头条新闻 Corpus"
   ]
  },
  {
   "cell_type": "code",
   "execution_count": 4,
   "metadata": {
    "ExecuteTime": {
     "end_time": "2019-05-11T02:02:12.111659Z",
     "start_time": "2019-05-11T02:02:12.107405Z"
    }
   },
   "outputs": [],
   "source": [
    "import pandas as pd\n",
    "import os"
   ]
  },
  {
   "cell_type": "code",
   "execution_count": 5,
   "metadata": {
    "ExecuteTime": {
     "end_time": "2019-05-11T02:02:12.754184Z",
     "start_time": "2019-05-11T02:02:12.750309Z"
    }
   },
   "outputs": [],
   "source": [
    "news_toutiao_dir = './data/今日头条新闻数据/'"
   ]
  },
  {
   "cell_type": "code",
   "execution_count": 6,
   "metadata": {
    "ExecuteTime": {
     "end_time": "2019-05-11T02:02:14.637792Z",
     "start_time": "2019-05-11T02:02:13.062714Z"
    }
   },
   "outputs": [
    {
     "name": "stdout",
     "output_type": "stream",
     "text": [
      "./data/今日头条新闻数据/今日头条-游戏.xlsx\n",
      "(2153, 2)\n",
      "./data/今日头条新闻数据/今日头条-娱乐.xlsx\n",
      "(2201, 2)\n",
      "./data/今日头条新闻数据/今日头条-时尚.xlsx\n",
      "(1048, 2)\n",
      "./data/今日头条新闻数据/今日头条-汽车.xlsx\n",
      "(2092, 2)\n",
      "./data/今日头条新闻数据/今日头条-军事.xlsx\n",
      "(1781, 2)\n",
      "./data/今日头条新闻数据/今日头条-体育.xlsx\n",
      "(2169, 2)\n"
     ]
    }
   ],
   "source": [
    "temp = []\n",
    "for root, dirs, files in os.walk(news_toutiao_dir):\n",
    "    # print(root)\n",
    "    # print(files)\n",
    "    for file in files:\n",
    "        file_path = root + file\n",
    "        print(file_path)\n",
    "        df = pd.read_excel(file_path)\n",
    "        df = df[['标题', '内容']]\n",
    "        print(df.shape)\n",
    "        temp.append(df)\n",
    "df_news = pd.concat(temp, axis=0)"
   ]
  },
  {
   "cell_type": "code",
   "execution_count": 7,
   "metadata": {
    "ExecuteTime": {
     "end_time": "2019-05-11T02:02:45.083315Z",
     "start_time": "2019-05-11T02:02:45.058029Z"
    }
   },
   "outputs": [],
   "source": [
    "df_news = df_news.reset_index()\n",
    "df_news = df_news.rename(columns={'index': 'id', '标题': 'title', '内容': 'text'})\n",
    "df_news['id'] = df_news['id'].apply(lambda x: x+1)"
   ]
  },
  {
   "cell_type": "code",
   "execution_count": 8,
   "metadata": {
    "ExecuteTime": {
     "end_time": "2019-05-11T02:02:52.166697Z",
     "start_time": "2019-05-11T02:02:52.149677Z"
    }
   },
   "outputs": [
    {
     "data": {
      "text/plain": [
       "(11444, 3)"
      ]
     },
     "execution_count": 8,
     "metadata": {},
     "output_type": "execute_result"
    }
   ],
   "source": [
    "df_news.shape"
   ]
  },
  {
   "cell_type": "code",
   "execution_count": 9,
   "metadata": {
    "ExecuteTime": {
     "end_time": "2019-05-11T02:03:02.592218Z",
     "start_time": "2019-05-11T02:03:02.570407Z"
    }
   },
   "outputs": [
    {
     "data": {
      "text/html": [
       "<div>\n",
       "<style scoped>\n",
       "    .dataframe tbody tr th:only-of-type {\n",
       "        vertical-align: middle;\n",
       "    }\n",
       "\n",
       "    .dataframe tbody tr th {\n",
       "        vertical-align: top;\n",
       "    }\n",
       "\n",
       "    .dataframe thead th {\n",
       "        text-align: right;\n",
       "    }\n",
       "</style>\n",
       "<table border=\"1\" class=\"dataframe\">\n",
       "  <thead>\n",
       "    <tr style=\"text-align: right;\">\n",
       "      <th></th>\n",
       "      <th>id</th>\n",
       "      <th>title</th>\n",
       "      <th>text</th>\n",
       "    </tr>\n",
       "  </thead>\n",
       "  <tbody>\n",
       "    <tr>\n",
       "      <th>8485</th>\n",
       "      <td>992</td>\n",
       "      <td>装甲碾压 以寡击众！美媒盘点影响装甲战的10种坦克</td>\n",
       "      <td>10.英国“百夫长”坦克“百夫长”坦克的设计初衷是让英国坦克拥有对抗德国“豹”式和“虎”式坦...</td>\n",
       "    </tr>\n",
       "    <tr>\n",
       "      <th>4405</th>\n",
       "      <td>52</td>\n",
       "      <td>不对称设计为何备受设计师的喜爱？             STYLEMODE官方 ⋅  评论...</td>\n",
       "      <td>对称性设计虽然有工整之美，但相较于两边异同的不对称款式，更显得新颖吸睛。不对称设计作为其中一...</td>\n",
       "    </tr>\n",
       "    <tr>\n",
       "      <th>1721</th>\n",
       "      <td>1722</td>\n",
       "      <td>魔兽世界8.1：达萨罗之战珠宝王冠，每天扣一颗宝石，药钱都省了</td>\n",
       "      <td>玩游戏找热点，点击关注不迷路魔兽世界8.1版本中的新团本达萨罗之战，将会在1月24日的时候开...</td>\n",
       "    </tr>\n",
       "    <tr>\n",
       "      <th>3533</th>\n",
       "      <td>1381</td>\n",
       "      <td>2018剧热歌火的原声TOP10,《香蜜》排第三，听过6首以上都是剧迷</td>\n",
       "      <td>2018剧热歌火的原声TOP10，香蜜才排第三，听过6首以上的都是剧迷影视原声带就跟配音一样...</td>\n",
       "    </tr>\n",
       "    <tr>\n",
       "      <th>4634</th>\n",
       "      <td>281</td>\n",
       "      <td>戳破“肌肤排毒”背后的谎言             甄垚谈护肤 ⋅  评论 ⋅   1天前 ...</td>\n",
       "      <td>“肌肤排毒”这个概念已经流行了很多年。当用了某款产品出现红肿、爆豆、脱皮时，客服经常会告诉您...</td>\n",
       "    </tr>\n",
       "    <tr>\n",
       "      <th>4186</th>\n",
       "      <td>2034</td>\n",
       "      <td>54岁的张曼玉和26岁的周冬雨同框：后者太嫩？法式优雅不设限</td>\n",
       "      <td>少壮狮子还缺食忍饿；但寻求耶和华的，什么好处都不缺。The lions may grow w...</td>\n",
       "    </tr>\n",
       "    <tr>\n",
       "      <th>5961</th>\n",
       "      <td>560</td>\n",
       "      <td>大车那么慢，我能弯道超车吗？</td>\n",
       "      <td>对于很多没有太多道路驾驶经验的人来说，他们刚刚脱离了刚上路那段时间的彷徨，进入到一个“我觉得...</td>\n",
       "    </tr>\n",
       "    <tr>\n",
       "      <th>1254</th>\n",
       "      <td>1255</td>\n",
       "      <td>刺激战场：它有M4的伤害，冲锋枪的射速，以及98k的稳定性</td>\n",
       "      <td>在游戏中哪些枪械最受到玩家的喜爱呢？应该是m4a1和98k这两把枪了。AKM虽然也有很多喜欢...</td>\n",
       "    </tr>\n",
       "    <tr>\n",
       "      <th>627</th>\n",
       "      <td>628</td>\n",
       "      <td>C级薇恩出电刀，A级薇恩裸破败，S级薇恩：自信的人只认它</td>\n",
       "      <td>薇恩这个英雄一直以来都是很多玩家心中的信仰级英雄，她是唯一一个没有任何AOE伤害的ADC，不...</td>\n",
       "    </tr>\n",
       "    <tr>\n",
       "      <th>7183</th>\n",
       "      <td>1782</td>\n",
       "      <td>买不起普拉多？那不如来看看它吧，一箱油续航700KM，售15万！</td>\n",
       "      <td>国产车仅几年发展的真的可圈可点了，像长城、吉利、上汽等这些车企这几年生产的国产车都很受欢迎。...</td>\n",
       "    </tr>\n",
       "  </tbody>\n",
       "</table>\n",
       "</div>"
      ],
      "text/plain": [
       "        id                                              title  \\\n",
       "8485   992                          装甲碾压 以寡击众！美媒盘点影响装甲战的10种坦克   \n",
       "4405    52  不对称设计为何备受设计师的喜爱？             STYLEMODE官方 ⋅  评论...   \n",
       "1721  1722                    魔兽世界8.1：达萨罗之战珠宝王冠，每天扣一颗宝石，药钱都省了   \n",
       "3533  1381                2018剧热歌火的原声TOP10,《香蜜》排第三，听过6首以上都是剧迷   \n",
       "4634   281  戳破“肌肤排毒”背后的谎言             甄垚谈护肤 ⋅  评论 ⋅   1天前 ...   \n",
       "4186  2034                     54岁的张曼玉和26岁的周冬雨同框：后者太嫩？法式优雅不设限   \n",
       "5961   560                                     大车那么慢，我能弯道超车吗？   \n",
       "1254  1255                      刺激战场：它有M4的伤害，冲锋枪的射速，以及98k的稳定性   \n",
       "627    628                       C级薇恩出电刀，A级薇恩裸破败，S级薇恩：自信的人只认它   \n",
       "7183  1782                   买不起普拉多？那不如来看看它吧，一箱油续航700KM，售15万！   \n",
       "\n",
       "                                                   text  \n",
       "8485  10.英国“百夫长”坦克“百夫长”坦克的设计初衷是让英国坦克拥有对抗德国“豹”式和“虎”式坦...  \n",
       "4405  对称性设计虽然有工整之美，但相较于两边异同的不对称款式，更显得新颖吸睛。不对称设计作为其中一...  \n",
       "1721  玩游戏找热点，点击关注不迷路魔兽世界8.1版本中的新团本达萨罗之战，将会在1月24日的时候开...  \n",
       "3533  2018剧热歌火的原声TOP10，香蜜才排第三，听过6首以上的都是剧迷影视原声带就跟配音一样...  \n",
       "4634  “肌肤排毒”这个概念已经流行了很多年。当用了某款产品出现红肿、爆豆、脱皮时，客服经常会告诉您...  \n",
       "4186  少壮狮子还缺食忍饿；但寻求耶和华的，什么好处都不缺。The lions may grow w...  \n",
       "5961  对于很多没有太多道路驾驶经验的人来说，他们刚刚脱离了刚上路那段时间的彷徨，进入到一个“我觉得...  \n",
       "1254  在游戏中哪些枪械最受到玩家的喜爱呢？应该是m4a1和98k这两把枪了。AKM虽然也有很多喜欢...  \n",
       "627   薇恩这个英雄一直以来都是很多玩家心中的信仰级英雄，她是唯一一个没有任何AOE伤害的ADC，不...  \n",
       "7183  国产车仅几年发展的真的可圈可点了，像长城、吉利、上汽等这些车企这几年生产的国产车都很受欢迎。...  "
      ]
     },
     "execution_count": 9,
     "metadata": {},
     "output_type": "execute_result"
    }
   ],
   "source": [
    "df_news.sample(10)"
   ]
  },
  {
   "cell_type": "code",
   "execution_count": 10,
   "metadata": {
    "ExecuteTime": {
     "end_time": "2019-05-11T02:03:41.887871Z",
     "start_time": "2019-05-11T02:03:41.420346Z"
    }
   },
   "outputs": [],
   "source": [
    "df_news.to_csv('./data/toutiao_news_corpus.csv', encoding='utf-8', index=False)"
   ]
  }
 ],
 "metadata": {
  "kernelspec": {
   "display_name": "Python 3",
   "language": "python",
   "name": "python3"
  },
  "language_info": {
   "codemirror_mode": {
    "name": "ipython",
    "version": 3
   },
   "file_extension": ".py",
   "mimetype": "text/x-python",
   "name": "python",
   "nbconvert_exporter": "python",
   "pygments_lexer": "ipython3",
   "version": "3.7.2"
  },
  "toc": {
   "base_numbering": 1,
   "nav_menu": {},
   "number_sections": false,
   "sideBar": true,
   "skip_h1_title": true,
   "title_cell": "Table of Contents",
   "title_sidebar": "Contents",
   "toc_cell": false,
   "toc_position": {},
   "toc_section_display": true,
   "toc_window_display": false
  }
 },
 "nbformat": 4,
 "nbformat_minor": 2
}
