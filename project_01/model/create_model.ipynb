{
 "cells": [
  {
   "cell_type": "code",
   "execution_count": 1,
   "metadata": {
    "ExecuteTime": {
     "end_time": "2019-05-11T04:36:43.310073Z",
     "start_time": "2019-05-11T04:36:41.629356Z"
    }
   },
   "outputs": [],
   "source": [
    "import pandas as pd"
   ]
  },
  {
   "cell_type": "code",
   "execution_count": 2,
   "metadata": {
    "ExecuteTime": {
     "end_time": "2019-05-11T04:37:25.396254Z",
     "start_time": "2019-05-11T04:37:25.390551Z"
    }
   },
   "outputs": [],
   "source": [
    "path = '../corpus/data/total_news_corpus.csv'"
   ]
  },
  {
   "cell_type": "code",
   "execution_count": 3,
   "metadata": {
    "ExecuteTime": {
     "end_time": "2019-05-11T04:37:41.268674Z",
     "start_time": "2019-05-11T04:37:38.842994Z"
    }
   },
   "outputs": [],
   "source": [
    "df = pd.read_csv(path)"
   ]
  },
  {
   "cell_type": "code",
   "execution_count": 4,
   "metadata": {
    "ExecuteTime": {
     "end_time": "2019-05-11T04:38:40.182176Z",
     "start_time": "2019-05-11T04:38:40.169095Z"
    }
   },
   "outputs": [
    {
     "name": "stdout",
     "output_type": "stream",
     "text": [
      "Total News Number: 98498\n"
     ]
    }
   ],
   "source": [
    "# Check news total number\n",
    "print('Total News Number: {}'.format(df.shape[0]))"
   ]
  },
  {
   "cell_type": "code",
   "execution_count": 9,
   "metadata": {
    "ExecuteTime": {
     "end_time": "2019-05-11T04:49:20.591935Z",
     "start_time": "2019-05-11T04:49:20.569556Z"
    }
   },
   "outputs": [
    {
     "data": {
      "text/html": [
       "<div>\n",
       "<style scoped>\n",
       "    .dataframe tbody tr th:only-of-type {\n",
       "        vertical-align: middle;\n",
       "    }\n",
       "\n",
       "    .dataframe tbody tr th {\n",
       "        vertical-align: top;\n",
       "    }\n",
       "\n",
       "    .dataframe thead th {\n",
       "        text-align: right;\n",
       "    }\n",
       "</style>\n",
       "<table border=\"1\" class=\"dataframe\">\n",
       "  <thead>\n",
       "    <tr style=\"text-align: right;\">\n",
       "      <th></th>\n",
       "      <th>id</th>\n",
       "      <th>title</th>\n",
       "      <th>content</th>\n",
       "    </tr>\n",
       "  </thead>\n",
       "  <tbody>\n",
       "    <tr>\n",
       "      <th>34852</th>\n",
       "      <td>25966</td>\n",
       "      <td>多特蒙德爆炸|因为足球，他们站在一起</td>\n",
       "      <td>\\n新华社巴黎4月12日新媒体专电　题：因为足球，他们站在一起\\n新华社记者苏斌\\n因为足球...</td>\n",
       "    </tr>\n",
       "    <tr>\n",
       "      <th>97741</th>\n",
       "      <td>88855</td>\n",
       "      <td>（社会）（1）北京S1线跨永定河大桥钢梁即将顶推就位</td>\n",
       "      <td>新华社照片，北京，2017年6月6日\\n北京S1线跨永定河大桥钢梁即将顶推就位\\n北京S1线...</td>\n",
       "    </tr>\n",
       "    <tr>\n",
       "      <th>33410</th>\n",
       "      <td>24524</td>\n",
       "      <td>（体育）（1）游泳——冠军赛：傅园慧晋级100米仰泳决赛</td>\n",
       "      <td>新华社照片，青岛（山东），2017年4月11日\\n（体育）（1）游泳——冠军赛：傅园慧晋级1...</td>\n",
       "    </tr>\n",
       "    <tr>\n",
       "      <th>19460</th>\n",
       "      <td>9129</td>\n",
       "      <td>台\"立法院\"临时会无同婚议题 挺同团体盼秋季前通过</td>\n",
       "      <td>华夏经纬网6月13日讯：据台湾媒体报道，台“立法院”下周将召开临时会，但并未排审同婚“法案”...</td>\n",
       "    </tr>\n",
       "    <tr>\n",
       "      <th>18466</th>\n",
       "      <td>7095</td>\n",
       "      <td>看升旗：黑大毕业生的最后一堂爱国主义教育课</td>\n",
       "      <td>央广网哈尔滨6月22日消息（记者迟嵩 通讯员勾慧明 牛春莳）6月22日，黑龙江大学在联通广场...</td>\n",
       "    </tr>\n",
       "  </tbody>\n",
       "</table>\n",
       "</div>"
      ],
      "text/plain": [
       "          id                         title  \\\n",
       "34852  25966            多特蒙德爆炸|因为足球，他们站在一起   \n",
       "97741  88855    （社会）（1）北京S1线跨永定河大桥钢梁即将顶推就位   \n",
       "33410  24524  （体育）（1）游泳——冠军赛：傅园慧晋级100米仰泳决赛   \n",
       "19460   9129     台\"立法院\"临时会无同婚议题 挺同团体盼秋季前通过   \n",
       "18466   7095         看升旗：黑大毕业生的最后一堂爱国主义教育课   \n",
       "\n",
       "                                                 content  \n",
       "34852  \\n新华社巴黎4月12日新媒体专电　题：因为足球，他们站在一起\\n新华社记者苏斌\\n因为足球...  \n",
       "97741  新华社照片，北京，2017年6月6日\\n北京S1线跨永定河大桥钢梁即将顶推就位\\n北京S1线...  \n",
       "33410  新华社照片，青岛（山东），2017年4月11日\\n（体育）（1）游泳——冠军赛：傅园慧晋级1...  \n",
       "19460  华夏经纬网6月13日讯：据台湾媒体报道，台“立法院”下周将召开临时会，但并未排审同婚“法案”...  \n",
       "18466  央广网哈尔滨6月22日消息（记者迟嵩 通讯员勾慧明 牛春莳）6月22日，黑龙江大学在联通广场...  "
      ]
     },
     "execution_count": 9,
     "metadata": {},
     "output_type": "execute_result"
    }
   ],
   "source": [
    "df.sample(5)"
   ]
  },
  {
   "cell_type": "code",
   "execution_count": 10,
   "metadata": {
    "ExecuteTime": {
     "end_time": "2019-05-11T04:50:56.427892Z",
     "start_time": "2019-05-11T04:50:56.219725Z"
    }
   },
   "outputs": [],
   "source": [
    "news = df['content'].tolist()"
   ]
  },
  {
   "cell_type": "code",
   "execution_count": 12,
   "metadata": {
    "ExecuteTime": {
     "end_time": "2019-05-11T04:51:33.417693Z",
     "start_time": "2019-05-11T04:51:33.413818Z"
    }
   },
   "outputs": [],
   "source": [
    "import re"
   ]
  },
  {
   "cell_type": "code",
   "execution_count": 13,
   "metadata": {
    "ExecuteTime": {
     "end_time": "2019-05-11T04:51:34.471738Z",
     "start_time": "2019-05-11T04:51:34.467814Z"
    }
   },
   "outputs": [],
   "source": [
    "def token(string):\n",
    "    return re.findall(r'[\\d|\\w]+', string)"
   ]
  },
  {
   "cell_type": "code",
   "execution_count": 14,
   "metadata": {
    "ExecuteTime": {
     "end_time": "2019-05-11T04:52:18.624649Z",
     "start_time": "2019-05-11T04:52:14.568016Z"
    }
   },
   "outputs": [],
   "source": [
    "news = [token(str(n)) for n in news]\n",
    "news = [''.join(n) for n in news]"
   ]
  },
  {
   "cell_type": "code",
   "execution_count": 17,
   "metadata": {
    "ExecuteTime": {
     "end_time": "2019-05-11T04:52:39.152387Z",
     "start_time": "2019-05-11T04:52:39.144640Z"
    }
   },
   "outputs": [
    {
     "data": {
      "text/plain": [
       "'现如今随着各大赛区2019年新赛季的接近各位职业选手为了尽快调整好自己的状态也是纷纷开始了自己的冲分之旅比如像SN的新打野选手就冲到了韩服第二名而像rookiejackeylove等上分如喝水选手也是重回韩服高分段可是就在这种大背景下一名职业选手最近却是遨游黑铁段位甚至还遭到了队友的无情嘲讽这到底是怎么一回事呢事情的主人公还是我们的锅老师由于新赛季段位重置的缘故mlxg在国服的账号经过了九胜一负的排位赛之后竟然只定位到了黑铁四其实作为一名职业选手来说mlxg原本在韩服的排位分数并不出众钻石打野王的称号也不是空穴来风但是谁曾想到mlxg竟然还有沦落到黑铁段位的时候不过mlxg对于自己这个段位还是非常看得开的在每局游戏开始的时候还会非常调皮的发一些能够让所有人都看到的骚话比如什么大家好请叫我黑铁打野王不过很明显并不是所有的队友都会给mlxg好脸色比如下面的这名玩家在某局游戏的开始mlxg再次非常调皮的发送了一句各位大哥大姐求求你们带我上个青铜吧可是这时一名队友却突然毫不客气的回复道爷不想带你确实由于mlxg隐藏分太高的缘故这几天匹配到的队友都是钻石的大神对于一名钻石段位的玩家来说去带一名黑铁的萌新的确是一件既丢份又浪费时间的事情不过虽然被队友怼了但是mlxg的做法却是非常的正确既然你不想带我那么就让我来带你吧最终在mlxg的carry下这名回怼mlxg的玩家也是几乎以躺赢的姿态结束了这局游戏可能这名玩家现在也正在为自己与一位真正大神发生矛盾而后悔不已吧而经过自己的努力mlxg在这两天也是终于晋级青铜分段看来黑铁打野王的称号已经不适用了啊各位同学你们觉得青铜段位的锅老师应该叫什么样的外号呢'"
      ]
     },
     "execution_count": 17,
     "metadata": {},
     "output_type": "execute_result"
    }
   ],
   "source": [
    "news[1]"
   ]
  },
  {
   "cell_type": "code",
   "execution_count": 18,
   "metadata": {
    "ExecuteTime": {
     "end_time": "2019-05-11T04:52:57.183673Z",
     "start_time": "2019-05-11T04:52:57.122822Z"
    }
   },
   "outputs": [],
   "source": [
    "import jieba"
   ]
  },
  {
   "cell_type": "code",
   "execution_count": 19,
   "metadata": {
    "ExecuteTime": {
     "end_time": "2019-05-11T04:53:04.614907Z",
     "start_time": "2019-05-11T04:53:04.609856Z"
    }
   },
   "outputs": [],
   "source": [
    "def cut(string):\n",
    "    return ' '.join(jieba.cut(string))"
   ]
  },
  {
   "cell_type": "code",
   "execution_count": 20,
   "metadata": {
    "ExecuteTime": {
     "end_time": "2019-05-11T04:57:22.561173Z",
     "start_time": "2019-05-11T04:53:41.458764Z"
    }
   },
   "outputs": [
    {
     "name": "stderr",
     "output_type": "stream",
     "text": [
      "Building prefix dict from the default dictionary ...\n",
      "Loading model from cache /var/folders/jc/l9vx9tp979g0tm976wjrgwkr0000gn/T/jieba.cache\n",
      "Loading model cost 0.870 seconds.\n",
      "Prefix dict has been built succesfully.\n"
     ]
    }
   ],
   "source": [
    "news = [cut(n) for n in news]"
   ]
  },
  {
   "cell_type": "code",
   "execution_count": 21,
   "metadata": {
    "ExecuteTime": {
     "end_time": "2019-05-11T04:58:10.526387Z",
     "start_time": "2019-05-11T04:58:10.517091Z"
    }
   },
   "outputs": [
    {
     "data": {
      "text/plain": [
       "'现如今 随着 各大 赛区 2019 年 新 赛季 的 接近 各位 职业 选手 为了 尽快 调整 好 自己 的 状态 也 是 纷纷 开始 了 自己 的 冲分 之 旅 比如 像 SN 的 新 打野 选手 就 冲到 了 韩服 第二名 而 像 rookiejackeylove 等 上 分如 喝水 选手 也 是 重回 韩服 高分 段 可是 就 在 这种 大 背景 下 一名 职业 选手 最近 却是 遨游 黑铁 段位 甚至 还 遭到 了 队友 的 无情 嘲讽 这 到底 是 怎么 一 回事 呢 事情 的 主人公 还是 我们 的 锅 老师 由于 新 赛季 段位 重置 的 缘故 mlxg 在 国服 的 账号 经过 了 九胜 一负 的 排位赛 之后 竟然 只 定位 到 了 黑铁 四 其实 作为 一名 职业 选手 来说 mlxg 原本 在 韩服 的 排位 分数 并 不 出众 钻石 打 野王 的 称号 也 不是 空穴来风 但是 谁 曾 想到 mlxg 竟然 还有 沦落 到 黑铁 段位 的 时候 不过 mlxg 对于 自己 这个 段位 还是 非常 看得开 的 在 每局 游戏 开始 的 时候 还会 非常 调皮 的 发 一些 能够 让 所有人 都 看到 的 骚话 比如 什么 大家 好 请 叫 我 黑铁 打 野王 不过 很 明显 并 不是 所有 的 队友 都 会 给 mlxg 好 脸色 比如 下面 的 这名 玩家 在 某局 游戏 的 开始 mlxg 再次 非常 调皮 的 发送 了 一句 各位 大哥 大姐 求求 你们 带 我 上 个 青铜 吧 可是 这时 一名 队友 却 突然 毫不客气 的 回复 道 爷 不想 带 你 确实 由于 mlxg 隐藏 分太高 的 缘故 这 几天 匹配 到 的 队友 都 是 钻石 的 大神 对于 一名 钻石 段位 的 玩家 来说 去 带 一名 黑铁 的 萌新 的确 是 一件 既 丢份 又 浪费时间 的 事情 不过 虽然 被 队友 怼 了 但是 mlxg 的 做法 却是 非常 的 正确 既然 你 不想 带 我 那么 就让 我来 带 你 吧 最终 在 mlxg 的 carry 下 这名 回 怼 mlxg 的 玩家 也 是 几乎 以 躺 赢 的 姿态 结束 了 这局 游戏 可能 这名 玩家 现在 也 正在 为 自己 与 一位 真正 大神 发生 矛盾 而 后悔不已 吧 而 经过 自己 的 努力 mlxg 在 这 两天 也 是 终于 晋级 青铜 分段 看来 黑铁 打 野王 的 称号 已经 不 适用 了 啊 各位 同学 你们 觉得 青铜 段位 的 锅 老师 应该 叫 什么样 的 外号 呢'"
      ]
     },
     "execution_count": 21,
     "metadata": {},
     "output_type": "execute_result"
    }
   ],
   "source": [
    "news[1]"
   ]
  },
  {
   "cell_type": "code",
   "execution_count": 22,
   "metadata": {
    "ExecuteTime": {
     "end_time": "2019-05-11T05:00:31.328234Z",
     "start_time": "2019-05-11T05:00:30.246392Z"
    }
   },
   "outputs": [],
   "source": [
    "with open('../corpus/data/total_news_sentences_cut.txt', 'w') as f:\n",
    "    for n in news:\n",
    "        f.write(n + '\\n')"
   ]
  },
  {
   "cell_type": "code",
   "execution_count": 23,
   "metadata": {
    "ExecuteTime": {
     "end_time": "2019-05-11T05:01:11.808694Z",
     "start_time": "2019-05-11T05:01:09.619355Z"
    }
   },
   "outputs": [],
   "source": [
    "from gensim.models import Word2Vec\n",
    "from gensim.models.word2vec import LineSentence"
   ]
  },
  {
   "cell_type": "code",
   "execution_count": 24,
   "metadata": {
    "ExecuteTime": {
     "end_time": "2019-05-11T05:04:24.238699Z",
     "start_time": "2019-05-11T05:01:43.219657Z"
    }
   },
   "outputs": [],
   "source": [
    "news_word2vec = Word2Vec(LineSentence('../corpus/data/total_news_sentences_cut.txt'),\n",
    "                            sg=0, min_count=1, size=100, window=5, workers=8)"
   ]
  },
  {
   "cell_type": "code",
   "execution_count": 25,
   "metadata": {
    "ExecuteTime": {
     "end_time": "2019-05-11T05:05:03.346942Z",
     "start_time": "2019-05-11T05:05:02.881599Z"
    }
   },
   "outputs": [
    {
     "data": {
      "text/plain": [
       "[('表示', 0.8122527599334717),\n",
       " ('指出', 0.7644426822662354),\n",
       " ('认为', 0.76312255859375),\n",
       " ('说完', 0.7410861253738403),\n",
       " ('告诉', 0.7131391167640686),\n",
       " ('坦言', 0.6955859661102295),\n",
       " ('看来', 0.6705851554870605),\n",
       " ('明说', 0.6689082384109497),\n",
       " ('称', 0.6521589159965515),\n",
       " ('介绍', 0.6364710927009583),\n",
       " ('强调', 0.6082767248153687),\n",
       " ('地说', 0.5851947069168091),\n",
       " ('中说', 0.5690614581108093),\n",
       " ('说道', 0.5552442669868469),\n",
       " ('时说', 0.552948534488678),\n",
       " ('文说', 0.5515514612197876),\n",
       " ('透露', 0.5484323501586914),\n",
       " ('说柯', 0.5424203872680664),\n",
       " ('罗恩费伦', 0.5393344759941101),\n",
       " ('所说', 0.526025116443634)]"
      ]
     },
     "execution_count": 25,
     "metadata": {},
     "output_type": "execute_result"
    }
   ],
   "source": [
    "news_word2vec.wv.most_similar('说', topn=20)"
   ]
  },
  {
   "cell_type": "code",
   "execution_count": 37,
   "metadata": {
    "ExecuteTime": {
     "end_time": "2019-05-11T07:21:52.792404Z",
     "start_time": "2019-05-11T07:21:52.784648Z"
    }
   },
   "outputs": [],
   "source": [
    "import pickle"
   ]
  },
  {
   "cell_type": "code",
   "execution_count": 39,
   "metadata": {
    "ExecuteTime": {
     "end_time": "2019-05-11T07:22:55.696494Z",
     "start_time": "2019-05-11T07:22:51.965983Z"
    }
   },
   "outputs": [],
   "source": [
    "with open('./news_word2vec_model.pkl', 'wb') as f:\n",
    "    pickle.dump(news_word2vec, f)"
   ]
  },
  {
   "cell_type": "code",
   "execution_count": null,
   "metadata": {},
   "outputs": [],
   "source": [
    "# with open('./news_word2vec_model.pkl', 'rb') as f:\n",
    "#     news_word2vec = pickle.load(f)"
   ]
  },
  {
   "cell_type": "code",
   "execution_count": 26,
   "metadata": {
    "ExecuteTime": {
     "end_time": "2019-05-11T05:31:03.756239Z",
     "start_time": "2019-05-11T05:31:03.740593Z"
    }
   },
   "outputs": [],
   "source": [
    "from collections import defaultdict"
   ]
  },
  {
   "cell_type": "code",
   "execution_count": 33,
   "metadata": {
    "ExecuteTime": {
     "end_time": "2019-05-11T06:41:39.003455Z",
     "start_time": "2019-05-11T06:41:38.937150Z"
    }
   },
   "outputs": [],
   "source": [
    "def get_related_words(init_words, model, max_size, top_n):\n",
    "    \"\"\"\n",
    "    @ init_words: initial words we already know\n",
    "    @ model: the word2vec model\n",
    "    @ max_size: the maximum number of words need to see\n",
    "    @ top_n: the number of top similar words\n",
    "    \"\"\"\n",
    "    \n",
    "    # Init unseen words list\n",
    "    unseen_list = init_words\n",
    "    \n",
    "    # Init seen words dict\n",
    "    seen = defaultdict(int)\n",
    "    \n",
    "    # Init sub nodes dict\n",
    "    sub_nodes_dic = defaultdict(list)\n",
    "    \n",
    "    # Scan unseen words list if length of seen words dict less than max_size\n",
    "    while unseen_list and len(seen) < max_size:\n",
    "        \n",
    "        # Get first word in unseen words list\n",
    "        node = unseen_list.pop(0)\n",
    "        \n",
    "        # Get sub nodes directly if in dict\n",
    "        if node in sub_nodes_dic:\n",
    "            sub_nodes = sub_nodes_dic[node]\n",
    "        \n",
    "        else:\n",
    "            # Get top_n similar words for first word by word2vec model\n",
    "            sub_nodes = [w for w, s in model.wv.most_similar(node, topn=top_n)]\n",
    "            \n",
    "            # Save result to sub nodes dict\n",
    "            sub_nodes_dic[node] = sub_nodes\n",
    "        \n",
    "        # Add similar words result to unseen words list\n",
    "        unseen_list += sub_nodes\n",
    "        \n",
    "        # Save current seen word and increase 1 weight\n",
    "        seen[node] += 1 # could be weighted by others\n",
    "        \n",
    "        # optimal: 1. score function could be revised\n",
    "    \n",
    "    # Sort seen words dict by words weight\n",
    "    seen_rank = sorted(seen.items(), key=lambda x: x[1], reverse=True)\n",
    "    \n",
    "    # Return sorted list\n",
    "    return seen_rank"
   ]
  },
  {
   "cell_type": "code",
   "execution_count": 34,
   "metadata": {
    "ExecuteTime": {
     "end_time": "2019-05-11T06:44:50.112183Z",
     "start_time": "2019-05-11T06:41:51.169737Z"
    }
   },
   "outputs": [],
   "source": [
    "# Set max_size = 10000 and top_n=50\n",
    "related_words = get_related_words(['说', '表示'], news_word2vec, max_size=10000, top_n=50)"
   ]
  },
  {
   "cell_type": "code",
   "execution_count": 40,
   "metadata": {
    "ExecuteTime": {
     "end_time": "2019-05-11T07:47:43.014417Z",
     "start_time": "2019-05-11T07:47:42.985354Z"
    }
   },
   "outputs": [
    {
     "name": "stdout",
     "output_type": "stream",
     "text": [
      "[('坦言', 249), ('说道', 238), ('表示', 205), ('说', 203), ('认为', 196), ('指出', 189), ('说完', 182), ('直言', 176), ('称', 174), ('告诉', 172), ('写道', 159), ('承认', 152), ('看来', 147), ('透露', 146), ('声称', 143), ('明说', 136), ('强调', 130), ('问过', 128), ('介绍', 127), ('批评', 127), ('提到', 118), ('所说', 115), ('地说', 112), ('时说', 109), ('强调指出', 109), ('中说', 107), ('中称', 107), ('感慨', 102), ('感叹', 100), ('说出', 100), ('提及', 98), ('反驳', 97), ('猜测', 95), ('罗恩费伦', 92), ('称赞', 92), ('问', 87), ('常修泽说', 86), ('抨击', 85), ('佩服', 84), ('表态', 84), ('否认', 83), ('帕沃', 82), ('暗示', 81), ('解释', 79), ('指责', 79), ('敦促', 78), ('英宋', 77), ('建议', 76), ('重申', 76), ('普遍认为', 75), ('澄清', 70), ('呼吁', 69), ('质疑', 68), ('推测', 68), ('谈起', 68), ('盛赞', 68), ('坦承', 68), ('指认', 67), ('地问', 66), ('坚称', 65), ('文说', 64), ('深有体会', 64), ('却说', 63), ('聊起', 62), ('回答', 62), ('谈论', 60), ('留意到', 59), ('还称', 59), ('观点', 58), ('评述', 57), ('还学', 57), ('反问', 56), ('如是说', 55), ('感激', 55), ('言论', 55), ('说法', 54), ('庆幸', 53), ('证实', 53), ('质问', 53), ('提出', 51), ('觉得', 51), ('纷纷表示', 50), ('回忆起', 50), ('西万', 49), ('闭上眼睛', 48), ('干涉', 47), ('提醒', 46), ('羡慕', 46), ('纳说', 44), ('说文淇', 43), ('王玉勤', 43), ('并不认为', 43), ('叮嘱', 43), ('知晓', 43), ('引用', 43), ('对此', 42), ('怀疑', 42), ('问道', 42), ('程慧', 41), ('奥尔松', 41), ('谈到', 41), ('激动', 41), ('夸赞', 41), ('写给', 41), ('谴责', 41), ('听说', 40), ('告诫', 40), ('眼里', 40), ('反思', 39), ('出面', 39), ('宣称', 38), ('翃', 37), ('劝', 37), ('调侃', 37), ('瑃', 36), ('红霞', 36), ('肖', 36), ('描述', 36), ('道歉', 36), ('所指', 35), ('宋海', 35), ('疑虑', 35), ('主张', 35), ('阐述', 35), ('一脸', 35), ('想起', 35), ('心疼', 35), ('田永秋', 34), ('解读', 34), ('担忧', 34), ('姚晓华向', 34), ('刘', 34), ('立新', 34), ('知情', 34), ('表述', 34), ('后悔', 34), ('回击', 34), ('提议', 34), ('国利', 33), ('深知', 33), ('欣喜', 33), ('说好', 33), ('驳斥', 33), ('指控', 33), ('担心', 32), ('看法', 32), ('孙鹏翼', 32), ('援引', 32), ('面露', 32), ('伤心', 32), ('否定', 32), ('行径', 32), ('事实上', 31), ('做法', 31), ('林庭', 31), ('聊过', 31), ('称梅', 31), ('引述', 31), ('政务司', 30), ('安丽', 30), ('反复强调', 30), ('询问', 30), ('春晖', 30), ('赞叹', 30), ('生气', 30), ('嘲讽', 30), ('骂', 30), ('挑衅', 30), ('相信', 29), ('评价', 29), ('董', 29), ('立场', 29), ('溢于言表', 29), ('谈谈', 29), ('回应', 29), ('疑惑', 29), ('夸奖', 29), ('学务', 28), ('由衷', 28), ('加恩请', 28), ('大喊', 28), ('内疚', 28), ('问起', 28), ('委屈', 28), ('撰写', 28), ('反对', 28), ('说据', 27), ('茜尔维', 27), ('特别强调', 27), ('常晔', 27), ('滔滔不绝', 27), ('党组书记', 27), ('称该', 27), ('时称', 27), ('简短', 27), ('追问', 27), ('给出', 27), ('拒绝', 27), ('辩称', 27), ('流泪', 27)]\n"
     ]
    }
   ],
   "source": [
    "related_top_200 = related_words[: 200]\n",
    "print(related_top_200)"
   ]
  },
  {
   "cell_type": "code",
   "execution_count": null,
   "metadata": {},
   "outputs": [],
   "source": []
  }
 ],
 "metadata": {
  "kernelspec": {
   "display_name": "Python 3",
   "language": "python",
   "name": "python3"
  },
  "language_info": {
   "codemirror_mode": {
    "name": "ipython",
    "version": 3
   },
   "file_extension": ".py",
   "mimetype": "text/x-python",
   "name": "python",
   "nbconvert_exporter": "python",
   "pygments_lexer": "ipython3",
   "version": "3.7.2"
  },
  "toc": {
   "base_numbering": 1,
   "nav_menu": {},
   "number_sections": false,
   "sideBar": true,
   "skip_h1_title": true,
   "title_cell": "Table of Contents",
   "title_sidebar": "Contents",
   "toc_cell": false,
   "toc_position": {},
   "toc_section_display": true,
   "toc_window_display": false
  }
 },
 "nbformat": 4,
 "nbformat_minor": 2
}
