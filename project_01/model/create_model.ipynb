{
 "cells": [
  {
   "cell_type": "code",
   "execution_count": 1,
   "metadata": {
    "ExecuteTime": {
     "end_time": "2019-05-11T04:36:43.310073Z",
     "start_time": "2019-05-11T04:36:41.629356Z"
    }
   },
   "outputs": [],
   "source": [
    "import pandas as pd"
   ]
  },
  {
   "cell_type": "code",
   "execution_count": 2,
   "metadata": {
    "ExecuteTime": {
     "end_time": "2019-05-11T04:37:25.396254Z",
     "start_time": "2019-05-11T04:37:25.390551Z"
    }
   },
   "outputs": [],
   "source": [
    "path = '../corpus/data/total_news_corpus.csv'"
   ]
  },
  {
   "cell_type": "code",
   "execution_count": 3,
   "metadata": {
    "ExecuteTime": {
     "end_time": "2019-05-11T04:37:41.268674Z",
     "start_time": "2019-05-11T04:37:38.842994Z"
    }
   },
   "outputs": [],
   "source": [
    "df = pd.read_csv(path)"
   ]
  },
  {
   "cell_type": "code",
   "execution_count": 4,
   "metadata": {
    "ExecuteTime": {
     "end_time": "2019-05-11T04:38:40.182176Z",
     "start_time": "2019-05-11T04:38:40.169095Z"
    }
   },
   "outputs": [
    {
     "name": "stdout",
     "output_type": "stream",
     "text": [
      "Total News Number: 98498\n"
     ]
    }
   ],
   "source": [
    "# Check news total number\n",
    "print('Total News Number: {}'.format(df.shape[0]))"
   ]
  },
  {
   "cell_type": "code",
   "execution_count": 9,
   "metadata": {
    "ExecuteTime": {
     "end_time": "2019-05-11T04:49:20.591935Z",
     "start_time": "2019-05-11T04:49:20.569556Z"
    }
   },
   "outputs": [
    {
     "data": {
      "text/html": [
       "<div>\n",
       "<style scoped>\n",
       "    .dataframe tbody tr th:only-of-type {\n",
       "        vertical-align: middle;\n",
       "    }\n",
       "\n",
       "    .dataframe tbody tr th {\n",
       "        vertical-align: top;\n",
       "    }\n",
       "\n",
       "    .dataframe thead th {\n",
       "        text-align: right;\n",
       "    }\n",
       "</style>\n",
       "<table border=\"1\" class=\"dataframe\">\n",
       "  <thead>\n",
       "    <tr style=\"text-align: right;\">\n",
       "      <th></th>\n",
       "      <th>id</th>\n",
       "      <th>title</th>\n",
       "      <th>content</th>\n",
       "    </tr>\n",
       "  </thead>\n",
       "  <tbody>\n",
       "    <tr>\n",
       "      <th>34852</th>\n",
       "      <td>25966</td>\n",
       "      <td>多特蒙德爆炸|因为足球，他们站在一起</td>\n",
       "      <td>\\n新华社巴黎4月12日新媒体专电　题：因为足球，他们站在一起\\n新华社记者苏斌\\n因为足球...</td>\n",
       "    </tr>\n",
       "    <tr>\n",
       "      <th>97741</th>\n",
       "      <td>88855</td>\n",
       "      <td>（社会）（1）北京S1线跨永定河大桥钢梁即将顶推就位</td>\n",
       "      <td>新华社照片，北京，2017年6月6日\\n北京S1线跨永定河大桥钢梁即将顶推就位\\n北京S1线...</td>\n",
       "    </tr>\n",
       "    <tr>\n",
       "      <th>33410</th>\n",
       "      <td>24524</td>\n",
       "      <td>（体育）（1）游泳——冠军赛：傅园慧晋级100米仰泳决赛</td>\n",
       "      <td>新华社照片，青岛（山东），2017年4月11日\\n（体育）（1）游泳——冠军赛：傅园慧晋级1...</td>\n",
       "    </tr>\n",
       "    <tr>\n",
       "      <th>19460</th>\n",
       "      <td>9129</td>\n",
       "      <td>台\"立法院\"临时会无同婚议题 挺同团体盼秋季前通过</td>\n",
       "      <td>华夏经纬网6月13日讯：据台湾媒体报道，台“立法院”下周将召开临时会，但并未排审同婚“法案”...</td>\n",
       "    </tr>\n",
       "    <tr>\n",
       "      <th>18466</th>\n",
       "      <td>7095</td>\n",
       "      <td>看升旗：黑大毕业生的最后一堂爱国主义教育课</td>\n",
       "      <td>央广网哈尔滨6月22日消息（记者迟嵩 通讯员勾慧明 牛春莳）6月22日，黑龙江大学在联通广场...</td>\n",
       "    </tr>\n",
       "  </tbody>\n",
       "</table>\n",
       "</div>"
      ],
      "text/plain": [
       "          id                         title  \\\n",
       "34852  25966            多特蒙德爆炸|因为足球，他们站在一起   \n",
       "97741  88855    （社会）（1）北京S1线跨永定河大桥钢梁即将顶推就位   \n",
       "33410  24524  （体育）（1）游泳——冠军赛：傅园慧晋级100米仰泳决赛   \n",
       "19460   9129     台\"立法院\"临时会无同婚议题 挺同团体盼秋季前通过   \n",
       "18466   7095         看升旗：黑大毕业生的最后一堂爱国主义教育课   \n",
       "\n",
       "                                                 content  \n",
       "34852  \\n新华社巴黎4月12日新媒体专电　题：因为足球，他们站在一起\\n新华社记者苏斌\\n因为足球...  \n",
       "97741  新华社照片，北京，2017年6月6日\\n北京S1线跨永定河大桥钢梁即将顶推就位\\n北京S1线...  \n",
       "33410  新华社照片，青岛（山东），2017年4月11日\\n（体育）（1）游泳——冠军赛：傅园慧晋级1...  \n",
       "19460  华夏经纬网6月13日讯：据台湾媒体报道，台“立法院”下周将召开临时会，但并未排审同婚“法案”...  \n",
       "18466  央广网哈尔滨6月22日消息（记者迟嵩 通讯员勾慧明 牛春莳）6月22日，黑龙江大学在联通广场...  "
      ]
     },
     "execution_count": 9,
     "metadata": {},
     "output_type": "execute_result"
    }
   ],
   "source": [
    "df.sample(5)"
   ]
  },
  {
   "cell_type": "code",
   "execution_count": 10,
   "metadata": {
    "ExecuteTime": {
     "end_time": "2019-05-11T04:50:56.427892Z",
     "start_time": "2019-05-11T04:50:56.219725Z"
    }
   },
   "outputs": [],
   "source": [
    "news = df['content'].tolist()"
   ]
  },
  {
   "cell_type": "code",
   "execution_count": 12,
   "metadata": {
    "ExecuteTime": {
     "end_time": "2019-05-11T04:51:33.417693Z",
     "start_time": "2019-05-11T04:51:33.413818Z"
    }
   },
   "outputs": [],
   "source": [
    "import re"
   ]
  },
  {
   "cell_type": "code",
   "execution_count": 13,
   "metadata": {
    "ExecuteTime": {
     "end_time": "2019-05-11T04:51:34.471738Z",
     "start_time": "2019-05-11T04:51:34.467814Z"
    }
   },
   "outputs": [],
   "source": [
    "def token(string):\n",
    "    return re.findall(r'[\\d|\\w]+', string)"
   ]
  },
  {
   "cell_type": "code",
   "execution_count": 14,
   "metadata": {
    "ExecuteTime": {
     "end_time": "2019-05-11T04:52:18.624649Z",
     "start_time": "2019-05-11T04:52:14.568016Z"
    }
   },
   "outputs": [],
   "source": [
    "news = [token(str(n)) for n in news]\n",
    "news = [''.join(n) for n in news]"
   ]
  },
  {
   "cell_type": "code",
   "execution_count": 17,
   "metadata": {
    "ExecuteTime": {
     "end_time": "2019-05-11T04:52:39.152387Z",
     "start_time": "2019-05-11T04:52:39.144640Z"
    }
   },
   "outputs": [
    {
     "data": {
      "text/plain": [
       "'现如今随着各大赛区2019年新赛季的接近各位职业选手为了尽快调整好自己的状态也是纷纷开始了自己的冲分之旅比如像SN的新打野选手就冲到了韩服第二名而像rookiejackeylove等上分如喝水选手也是重回韩服高分段可是就在这种大背景下一名职业选手最近却是遨游黑铁段位甚至还遭到了队友的无情嘲讽这到底是怎么一回事呢事情的主人公还是我们的锅老师由于新赛季段位重置的缘故mlxg在国服的账号经过了九胜一负的排位赛之后竟然只定位到了黑铁四其实作为一名职业选手来说mlxg原本在韩服的排位分数并不出众钻石打野王的称号也不是空穴来风但是谁曾想到mlxg竟然还有沦落到黑铁段位的时候不过mlxg对于自己这个段位还是非常看得开的在每局游戏开始的时候还会非常调皮的发一些能够让所有人都看到的骚话比如什么大家好请叫我黑铁打野王不过很明显并不是所有的队友都会给mlxg好脸色比如下面的这名玩家在某局游戏的开始mlxg再次非常调皮的发送了一句各位大哥大姐求求你们带我上个青铜吧可是这时一名队友却突然毫不客气的回复道爷不想带你确实由于mlxg隐藏分太高的缘故这几天匹配到的队友都是钻石的大神对于一名钻石段位的玩家来说去带一名黑铁的萌新的确是一件既丢份又浪费时间的事情不过虽然被队友怼了但是mlxg的做法却是非常的正确既然你不想带我那么就让我来带你吧最终在mlxg的carry下这名回怼mlxg的玩家也是几乎以躺赢的姿态结束了这局游戏可能这名玩家现在也正在为自己与一位真正大神发生矛盾而后悔不已吧而经过自己的努力mlxg在这两天也是终于晋级青铜分段看来黑铁打野王的称号已经不适用了啊各位同学你们觉得青铜段位的锅老师应该叫什么样的外号呢'"
      ]
     },
     "execution_count": 17,
     "metadata": {},
     "output_type": "execute_result"
    }
   ],
   "source": [
    "news[1]"
   ]
  },
  {
   "cell_type": "code",
   "execution_count": 18,
   "metadata": {
    "ExecuteTime": {
     "end_time": "2019-05-11T04:52:57.183673Z",
     "start_time": "2019-05-11T04:52:57.122822Z"
    }
   },
   "outputs": [],
   "source": [
    "import jieba"
   ]
  },
  {
   "cell_type": "code",
   "execution_count": 19,
   "metadata": {
    "ExecuteTime": {
     "end_time": "2019-05-11T04:53:04.614907Z",
     "start_time": "2019-05-11T04:53:04.609856Z"
    }
   },
   "outputs": [],
   "source": [
    "def cut(string):\n",
    "    return ' '.join(jieba.cut(string))"
   ]
  },
  {
   "cell_type": "code",
   "execution_count": 20,
   "metadata": {
    "ExecuteTime": {
     "end_time": "2019-05-11T04:57:22.561173Z",
     "start_time": "2019-05-11T04:53:41.458764Z"
    }
   },
   "outputs": [
    {
     "name": "stderr",
     "output_type": "stream",
     "text": [
      "Building prefix dict from the default dictionary ...\n",
      "Loading model from cache /var/folders/jc/l9vx9tp979g0tm976wjrgwkr0000gn/T/jieba.cache\n",
      "Loading model cost 0.870 seconds.\n",
      "Prefix dict has been built succesfully.\n"
     ]
    }
   ],
   "source": [
    "news = [cut(n) for n in news]"
   ]
  },
  {
   "cell_type": "code",
   "execution_count": 21,
   "metadata": {
    "ExecuteTime": {
     "end_time": "2019-05-11T04:58:10.526387Z",
     "start_time": "2019-05-11T04:58:10.517091Z"
    }
   },
   "outputs": [
    {
     "data": {
      "text/plain": [
       "'现如今 随着 各大 赛区 2019 年 新 赛季 的 接近 各位 职业 选手 为了 尽快 调整 好 自己 的 状态 也 是 纷纷 开始 了 自己 的 冲分 之 旅 比如 像 SN 的 新 打野 选手 就 冲到 了 韩服 第二名 而 像 rookiejackeylove 等 上 分如 喝水 选手 也 是 重回 韩服 高分 段 可是 就 在 这种 大 背景 下 一名 职业 选手 最近 却是 遨游 黑铁 段位 甚至 还 遭到 了 队友 的 无情 嘲讽 这 到底 是 怎么 一 回事 呢 事情 的 主人公 还是 我们 的 锅 老师 由于 新 赛季 段位 重置 的 缘故 mlxg 在 国服 的 账号 经过 了 九胜 一负 的 排位赛 之后 竟然 只 定位 到 了 黑铁 四 其实 作为 一名 职业 选手 来说 mlxg 原本 在 韩服 的 排位 分数 并 不 出众 钻石 打 野王 的 称号 也 不是 空穴来风 但是 谁 曾 想到 mlxg 竟然 还有 沦落 到 黑铁 段位 的 时候 不过 mlxg 对于 自己 这个 段位 还是 非常 看得开 的 在 每局 游戏 开始 的 时候 还会 非常 调皮 的 发 一些 能够 让 所有人 都 看到 的 骚话 比如 什么 大家 好 请 叫 我 黑铁 打 野王 不过 很 明显 并 不是 所有 的 队友 都 会 给 mlxg 好 脸色 比如 下面 的 这名 玩家 在 某局 游戏 的 开始 mlxg 再次 非常 调皮 的 发送 了 一句 各位 大哥 大姐 求求 你们 带 我 上 个 青铜 吧 可是 这时 一名 队友 却 突然 毫不客气 的 回复 道 爷 不想 带 你 确实 由于 mlxg 隐藏 分太高 的 缘故 这 几天 匹配 到 的 队友 都 是 钻石 的 大神 对于 一名 钻石 段位 的 玩家 来说 去 带 一名 黑铁 的 萌新 的确 是 一件 既 丢份 又 浪费时间 的 事情 不过 虽然 被 队友 怼 了 但是 mlxg 的 做法 却是 非常 的 正确 既然 你 不想 带 我 那么 就让 我来 带 你 吧 最终 在 mlxg 的 carry 下 这名 回 怼 mlxg 的 玩家 也 是 几乎 以 躺 赢 的 姿态 结束 了 这局 游戏 可能 这名 玩家 现在 也 正在 为 自己 与 一位 真正 大神 发生 矛盾 而 后悔不已 吧 而 经过 自己 的 努力 mlxg 在 这 两天 也 是 终于 晋级 青铜 分段 看来 黑铁 打 野王 的 称号 已经 不 适用 了 啊 各位 同学 你们 觉得 青铜 段位 的 锅 老师 应该 叫 什么样 的 外号 呢'"
      ]
     },
     "execution_count": 21,
     "metadata": {},
     "output_type": "execute_result"
    }
   ],
   "source": [
    "news[1]"
   ]
  },
  {
   "cell_type": "code",
   "execution_count": 22,
   "metadata": {
    "ExecuteTime": {
     "end_time": "2019-05-11T05:00:31.328234Z",
     "start_time": "2019-05-11T05:00:30.246392Z"
    }
   },
   "outputs": [],
   "source": [
    "with open('../corpus/data/total_news_sentences_cut.txt', 'w') as f:\n",
    "    for n in news:\n",
    "        f.write(n + '\\n')"
   ]
  },
  {
   "cell_type": "code",
   "execution_count": 23,
   "metadata": {
    "ExecuteTime": {
     "end_time": "2019-05-11T05:01:11.808694Z",
     "start_time": "2019-05-11T05:01:09.619355Z"
    }
   },
   "outputs": [],
   "source": [
    "from gensim.models import Word2Vec\n",
    "from gensim.models.word2vec import LineSentence"
   ]
  },
  {
   "cell_type": "code",
   "execution_count": 24,
   "metadata": {
    "ExecuteTime": {
     "end_time": "2019-05-11T05:04:24.238699Z",
     "start_time": "2019-05-11T05:01:43.219657Z"
    }
   },
   "outputs": [],
   "source": [
    "news_word2vec = Word2Vec(LineSentence('../corpus/data/total_news_sentences_cut.txt'),\n",
    "                            sg=0, min_count=1, size=100, window=5, workers=8)"
   ]
  },
  {
   "cell_type": "code",
   "execution_count": 25,
   "metadata": {
    "ExecuteTime": {
     "end_time": "2019-05-11T05:05:03.346942Z",
     "start_time": "2019-05-11T05:05:02.881599Z"
    }
   },
   "outputs": [
    {
     "data": {
      "text/plain": [
       "[('表示', 0.8122527599334717),\n",
       " ('指出', 0.7644426822662354),\n",
       " ('认为', 0.76312255859375),\n",
       " ('说完', 0.7410861253738403),\n",
       " ('告诉', 0.7131391167640686),\n",
       " ('坦言', 0.6955859661102295),\n",
       " ('看来', 0.6705851554870605),\n",
       " ('明说', 0.6689082384109497),\n",
       " ('称', 0.6521589159965515),\n",
       " ('介绍', 0.6364710927009583),\n",
       " ('强调', 0.6082767248153687),\n",
       " ('地说', 0.5851947069168091),\n",
       " ('中说', 0.5690614581108093),\n",
       " ('说道', 0.5552442669868469),\n",
       " ('时说', 0.552948534488678),\n",
       " ('文说', 0.5515514612197876),\n",
       " ('透露', 0.5484323501586914),\n",
       " ('说柯', 0.5424203872680664),\n",
       " ('罗恩费伦', 0.5393344759941101),\n",
       " ('所说', 0.526025116443634)]"
      ]
     },
     "execution_count": 25,
     "metadata": {},
     "output_type": "execute_result"
    }
   ],
   "source": [
    "news_word2vec.wv.most_similar('说', topn=20)"
   ]
  },
  {
   "cell_type": "code",
   "execution_count": 26,
   "metadata": {
    "ExecuteTime": {
     "end_time": "2019-05-11T05:31:03.756239Z",
     "start_time": "2019-05-11T05:31:03.740593Z"
    }
   },
   "outputs": [],
   "source": [
    "from collections import defaultdict"
   ]
  },
  {
   "cell_type": "code",
   "execution_count": 27,
   "metadata": {
    "ExecuteTime": {
     "end_time": "2019-05-11T05:31:14.610701Z",
     "start_time": "2019-05-11T05:31:14.599244Z"
    }
   },
   "outputs": [],
   "source": [
    "def get_related_words(init_words, model, max_size, top_n):\n",
    "    \"\"\"\n",
    "    @ init_words: initial words we already know\n",
    "    @ model: the word2vec model\n",
    "    @ max_size: the maximum number of words need to see\n",
    "    @ top_n: the number of top similar words\n",
    "    \"\"\"\n",
    "    \n",
    "    # Init unseen words list\n",
    "    unseen_list = init_words\n",
    "    \n",
    "    # Init seen words dict\n",
    "    seen = defaultdict(int)\n",
    "    \n",
    "    # Scan unseen words list if length of seen words dict less than max_size\n",
    "    while unseen_list and len(seen) < max_size:\n",
    "        \n",
    "        # Get first word in unseen words list\n",
    "        node = unseen_list.pop(0)\n",
    "        \n",
    "        # Get top_n similar words for first word by word2vec model\n",
    "        sub_nodes = [w for w, s in model.wv.most_similar(node, topn=top_n)]\n",
    "        \n",
    "        # Add similar words result to unseen words list\n",
    "        unseen_list += sub_nodes\n",
    "        \n",
    "        # Save current seen word and increase 1 weight\n",
    "        seen[node] += 1 # could be weighted by others\n",
    "        \n",
    "        # optimal: 1. score function could be revised\n",
    "        # optimal: 2. using dymanic programming to reduce computing time\n",
    "    \n",
    "    # Sort seen words dict by words weight\n",
    "    seen_rank = sorted(seen.items(), key=lambda x: x[1], reverse=True)\n",
    "    \n",
    "    # Return sorted list\n",
    "    return seen_rank"
   ]
  },
  {
   "cell_type": "code",
   "execution_count": 28,
   "metadata": {
    "ExecuteTime": {
     "end_time": "2019-05-11T05:44:30.589103Z",
     "start_time": "2019-05-11T05:32:33.213041Z"
    }
   },
   "outputs": [],
   "source": [
    "# Set max_size = 10000 and top_n=30\n",
    "related_words = get_related_words(['说', '表示'], news_word2vec, max_size=10000, top_n=30)"
   ]
  },
  {
   "cell_type": "code",
   "execution_count": 32,
   "metadata": {
    "ExecuteTime": {
     "end_time": "2019-05-11T05:49:09.401289Z",
     "start_time": "2019-05-11T05:49:09.395957Z"
    }
   },
   "outputs": [
    {
     "name": "stdout",
     "output_type": "stream",
     "text": [
      "[('说道', 406), ('坦言', 404), ('表示', 342), ('说', 331), ('指出', 329), ('认为', 313), ('说完', 305), ('透露', 286), ('告诉', 259), ('看来', 255), ('写道', 251), ('强调', 244), ('直言', 237), ('称', 236), ('介绍', 232), ('明说', 230), ('中说', 197), ('地说', 196), ('提到', 193), ('批评', 192), ('所说', 186), ('帕沃', 186), ('问过', 186), ('声称', 182), ('提及', 169), ('时说', 163), ('感慨', 157), ('中称', 153), ('承认', 150), ('表态', 146), ('感叹', 146), ('猜测', 142), ('常修泽说', 138), ('英宋', 138), ('佩服', 133), ('建议', 131), ('说出', 130), ('反驳', 128), ('否认', 127), ('强调指出', 125), ('普遍认为', 124), ('谈起', 124), ('指责', 115), ('问', 113), ('解释', 113), ('呼吁', 111), ('推测', 110), ('抨击', 110), ('文说', 106), ('罗恩费伦', 106), ('暗示', 98), ('坦承', 97), ('重申', 96), ('深有体会', 95), ('反问', 93), ('程慧', 91), ('质疑', 90), ('回答', 87), ('还学', 85), ('质问', 85), ('谈到', 84), ('留意到', 83), ('言论', 81), ('说文淇', 80), ('却说', 80), ('引用', 80), ('还称', 79), ('回忆起', 77), ('提出', 75), ('聊起', 75), ('如是说', 74), ('证实', 74), ('敦促', 74), ('澄清', 72), ('干涉', 71), ('指认', 69), ('激动', 67), ('王玉勤', 66), ('感激', 64), ('羡慕', 62)]\n"
     ]
    }
   ],
   "source": [
    "related_top_80 = related_words[: 80]\n",
    "print(related_top_80)"
   ]
  },
  {
   "cell_type": "code",
   "execution_count": null,
   "metadata": {},
   "outputs": [],
   "source": []
  }
 ],
 "metadata": {
  "kernelspec": {
   "display_name": "Python 3",
   "language": "python",
   "name": "python3"
  },
  "language_info": {
   "codemirror_mode": {
    "name": "ipython",
    "version": 3
   },
   "file_extension": ".py",
   "mimetype": "text/x-python",
   "name": "python",
   "nbconvert_exporter": "python",
   "pygments_lexer": "ipython3",
   "version": "3.7.2"
  },
  "toc": {
   "base_numbering": 1,
   "nav_menu": {},
   "number_sections": false,
   "sideBar": true,
   "skip_h1_title": true,
   "title_cell": "Table of Contents",
   "title_sidebar": "Contents",
   "toc_cell": false,
   "toc_position": {},
   "toc_section_display": true,
   "toc_window_display": false
  }
 },
 "nbformat": 4,
 "nbformat_minor": 2
}
